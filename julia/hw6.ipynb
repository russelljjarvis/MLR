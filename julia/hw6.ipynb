{
 "cells": [
  {
   "cell_type": "code",
   "execution_count": 8,
   "metadata": {},
   "outputs": [
    {
     "name": "stderr",
     "output_type": "stream",
     "text": [
      "  % Total    % Received % Xferd  Average Speed   Time    Time     Time  Current\n",
      "                                 Dload  Upload   Total   Spent    Left  Speed\n",
      "100 1474k  100 1474k    0     0   164k      0  0:00:08  0:00:08 --:--:--  146k\n"
     ]
    },
    {
     "data": {
      "text/html": [
       "<table class=\"data-frame\"><thead><tr><th></th><th>Column1</th><th>price</th><th>trim</th><th>isOneOwner</th><th>mileage</th><th>year</th><th>color</th><th>displacement</th><th>fuel</th><th>region</th><th>soundSystem</th><th>wheelType</th></tr><tr><th></th><th>Int64⍰</th><th>Int64⍰</th><th>String⍰</th><th>String⍰</th><th>Float64⍰</th><th>Int64⍰</th><th>String⍰</th><th>Float64⍰</th><th>String⍰</th><th>String⍰</th><th>String⍰</th><th>String⍰</th></tr></thead><tbody><p>20,063 rows × 12 columns</p><tr><th>1</th><td>1</td><td>2988</td><td>320</td><td>f</td><td>193296.0</td><td>1995</td><td>Black</td><td>3.2</td><td>Gasoline</td><td>SoA</td><td>unsp</td><td>Alloy</td></tr><tr><th>2</th><td>2</td><td>6595</td><td>320</td><td>f</td><td>129948.0</td><td>1995</td><td>other</td><td>3.2</td><td>Gasoline</td><td>Mid</td><td>Premium</td><td>Alloy</td></tr><tr><th>3</th><td>3</td><td>7993</td><td>320</td><td>f</td><td>140428.0</td><td>1997</td><td>White</td><td>3.2</td><td>Gasoline</td><td>Mid</td><td>Bose</td><td>Alloy</td></tr><tr><th>4</th><td>4</td><td>5995</td><td>420</td><td>f</td><td>113622.0</td><td>1999</td><td>Silver</td><td>4.2</td><td>Gasoline</td><td>Mid</td><td>unsp</td><td>Alloy</td></tr><tr><th>5</th><td>5</td><td>3000</td><td>420</td><td>f</td><td>167673.0</td><td>1999</td><td>Silver</td><td>4.2</td><td>Gasoline</td><td>SoA</td><td>unsp</td><td>Alloy</td></tr><tr><th>6</th><td>6</td><td>7400</td><td>430</td><td>f</td><td>82419.0</td><td>2002</td><td>White</td><td>4.3</td><td>Gasoline</td><td>Mid</td><td>Bose</td><td>Alloy</td></tr><tr><th>7</th><td>7</td><td>10850</td><td>430</td><td>f</td><td>101264.0</td><td>2000</td><td>White</td><td>4.3</td><td>Gasoline</td><td>SoA</td><td>unsp</td><td>unsp</td></tr><tr><th>8</th><td>8</td><td>8990</td><td>430</td><td>f</td><td>110651.0</td><td>2001</td><td>Black</td><td>4.3</td><td>Gasoline</td><td>SoA</td><td>unsp</td><td>Alloy</td></tr><tr><th>9</th><td>9</td><td>7950</td><td>430</td><td>f</td><td>108173.0</td><td>2000</td><td>Silver</td><td>4.3</td><td>Gasoline</td><td>ESC</td><td>Bose</td><td>unsp</td></tr><tr><th>10</th><td>10</td><td>7995</td><td>430</td><td>f</td><td>119978.0</td><td>2000</td><td>Black</td><td>4.3</td><td>Gasoline</td><td>ESC</td><td>unsp</td><td>Alloy</td></tr><tr><th>11</th><td>11</td><td>6998</td><td>430</td><td>f</td><td>187977.0</td><td>2002</td><td>Gray</td><td>4.3</td><td>Gasoline</td><td>SoA</td><td>Premium</td><td>unsp</td></tr><tr><th>12</th><td>12</td><td>11997</td><td>430</td><td>f</td><td>106093.0</td><td>2002</td><td>Silver</td><td>4.3</td><td>Gasoline</td><td>ENC</td><td>Bose</td><td>unsp</td></tr><tr><th>13</th><td>13</td><td>2800</td><td>430</td><td>f</td><td>59690.0</td><td>2002</td><td>Black</td><td>4.3</td><td>Gasoline</td><td>ENC</td><td>unsp</td><td>unsp</td></tr><tr><th>14</th><td>14</td><td>11459</td><td>430</td><td>f</td><td>129167.0</td><td>2003</td><td>other</td><td>4.3</td><td>Gasoline</td><td>WSC</td><td>Bose</td><td>unsp</td></tr><tr><th>15</th><td>15</td><td>4995</td><td>430</td><td>f</td><td>172807.0</td><td>2002</td><td>Gray</td><td>4.3</td><td>Gasoline</td><td>ENC</td><td>Premium</td><td>Alloy</td></tr><tr><th>16</th><td>16</td><td>10999</td><td>430</td><td>f</td><td>76577.0</td><td>2004</td><td>Gray</td><td>4.3</td><td>Gasoline</td><td>Mid</td><td>unsp</td><td>Alloy</td></tr><tr><th>17</th><td>17</td><td>10765</td><td>430</td><td>f</td><td>66453.0</td><td>2002</td><td>Silver</td><td>4.3</td><td>Gasoline</td><td>New</td><td>unsp</td><td>Alloy</td></tr><tr><th>18</th><td>18</td><td>9994</td><td>430</td><td>f</td><td>84097.0</td><td>2003</td><td>Silver</td><td>4.3</td><td>Gasoline</td><td>ENC</td><td>unsp</td><td>Alloy</td></tr><tr><th>19</th><td>19</td><td>9995</td><td>430</td><td>t</td><td>97240.0</td><td>2002</td><td>Gray</td><td>4.3</td><td>Gasoline</td><td>Mtn</td><td>unsp</td><td>Alloy</td></tr><tr><th>20</th><td>20</td><td>9339</td><td>430</td><td>f</td><td>143997.0</td><td>2004</td><td>Gray</td><td>4.3</td><td>Gasoline</td><td>Mtn</td><td>unsp</td><td>Alloy</td></tr><tr><th>21</th><td>21</td><td>8800</td><td>430</td><td>f</td><td>125438.0</td><td>2004</td><td>Silver</td><td>4.3</td><td>Gasoline</td><td>WSC</td><td>unsp</td><td>unsp</td></tr><tr><th>22</th><td>22</td><td>16950</td><td>430</td><td>f</td><td>83507.0</td><td>2006</td><td>Blue</td><td>4.3</td><td>Gasoline</td><td>Mtn</td><td>Premium</td><td>unsp</td></tr><tr><th>23</th><td>23</td><td>8995</td><td>430</td><td>f</td><td>121640.0</td><td>2001</td><td>Blue</td><td>4.3</td><td>Gasoline</td><td>Mtn</td><td>unsp</td><td>Alloy</td></tr><tr><th>24</th><td>24</td><td>8875</td><td>430</td><td>f</td><td>136514.0</td><td>2001</td><td>other</td><td>4.3</td><td>Gasoline</td><td>SoA</td><td>Premium</td><td>Alloy</td></tr><tr><th>25</th><td>25</td><td>5900</td><td>430</td><td>f</td><td>144645.0</td><td>2001</td><td>Silver</td><td>4.3</td><td>Gasoline</td><td>SoA</td><td>unsp</td><td>unsp</td></tr><tr><th>26</th><td>26</td><td>6995</td><td>430</td><td>f</td><td>178000.0</td><td>2002</td><td>Silver</td><td>4.3</td><td>Gasoline</td><td>SoA</td><td>unsp</td><td>Alloy</td></tr><tr><th>27</th><td>27</td><td>7990</td><td>430</td><td>f</td><td>83770.0</td><td>2003</td><td>Silver</td><td>4.3</td><td>Gasoline</td><td>New</td><td>Bose</td><td>Alloy</td></tr><tr><th>28</th><td>28</td><td>7999</td><td>430</td><td>t</td><td>89024.0</td><td>2002</td><td>Silver</td><td>4.3</td><td>Gasoline</td><td>SoA</td><td>Premium</td><td>Alloy</td></tr><tr><th>29</th><td>29</td><td>6995</td><td>430</td><td>f</td><td>141610.0</td><td>2002</td><td>Silver</td><td>4.3</td><td>Gasoline</td><td>WSC</td><td>unsp</td><td>unsp</td></tr><tr><th>30</th><td>30</td><td>3499</td><td>430</td><td>f</td><td>176699.0</td><td>2000</td><td>Silver</td><td>4.3</td><td>Gasoline</td><td>ENC</td><td>unsp</td><td>Alloy</td></tr><tr><th>&vellip;</th><td>&vellip;</td><td>&vellip;</td><td>&vellip;</td><td>&vellip;</td><td>&vellip;</td><td>&vellip;</td><td>&vellip;</td><td>&vellip;</td><td>&vellip;</td><td>&vellip;</td><td>&vellip;</td><td>&vellip;</td></tr></tbody></table>"
      ],
      "text/latex": [
       "\\begin{tabular}{r|cccccccccccc}\n",
       "\t& Column1 & price & trim & isOneOwner & mileage & year & color & displacement & fuel & region & soundSystem & wheelType\\\\\n",
       "\t\\hline\n",
       "\t& Int64⍰ & Int64⍰ & String⍰ & String⍰ & Float64⍰ & Int64⍰ & String⍰ & Float64⍰ & String⍰ & String⍰ & String⍰ & String⍰\\\\\n",
       "\t\\hline\n",
       "\t1 & 1 & 2988 & 320 & f & 193296.0 & 1995 & Black & 3.2 & Gasoline & SoA & unsp & Alloy \\\\\n",
       "\t2 & 2 & 6595 & 320 & f & 129948.0 & 1995 & other & 3.2 & Gasoline & Mid & Premium & Alloy \\\\\n",
       "\t3 & 3 & 7993 & 320 & f & 140428.0 & 1997 & White & 3.2 & Gasoline & Mid & Bose & Alloy \\\\\n",
       "\t4 & 4 & 5995 & 420 & f & 113622.0 & 1999 & Silver & 4.2 & Gasoline & Mid & unsp & Alloy \\\\\n",
       "\t5 & 5 & 3000 & 420 & f & 167673.0 & 1999 & Silver & 4.2 & Gasoline & SoA & unsp & Alloy \\\\\n",
       "\t6 & 6 & 7400 & 430 & f & 82419.0 & 2002 & White & 4.3 & Gasoline & Mid & Bose & Alloy \\\\\n",
       "\t7 & 7 & 10850 & 430 & f & 101264.0 & 2000 & White & 4.3 & Gasoline & SoA & unsp & unsp \\\\\n",
       "\t8 & 8 & 8990 & 430 & f & 110651.0 & 2001 & Black & 4.3 & Gasoline & SoA & unsp & Alloy \\\\\n",
       "\t9 & 9 & 7950 & 430 & f & 108173.0 & 2000 & Silver & 4.3 & Gasoline & ESC & Bose & unsp \\\\\n",
       "\t10 & 10 & 7995 & 430 & f & 119978.0 & 2000 & Black & 4.3 & Gasoline & ESC & unsp & Alloy \\\\\n",
       "\t11 & 11 & 6998 & 430 & f & 187977.0 & 2002 & Gray & 4.3 & Gasoline & SoA & Premium & unsp \\\\\n",
       "\t12 & 12 & 11997 & 430 & f & 106093.0 & 2002 & Silver & 4.3 & Gasoline & ENC & Bose & unsp \\\\\n",
       "\t13 & 13 & 2800 & 430 & f & 59690.0 & 2002 & Black & 4.3 & Gasoline & ENC & unsp & unsp \\\\\n",
       "\t14 & 14 & 11459 & 430 & f & 129167.0 & 2003 & other & 4.3 & Gasoline & WSC & Bose & unsp \\\\\n",
       "\t15 & 15 & 4995 & 430 & f & 172807.0 & 2002 & Gray & 4.3 & Gasoline & ENC & Premium & Alloy \\\\\n",
       "\t16 & 16 & 10999 & 430 & f & 76577.0 & 2004 & Gray & 4.3 & Gasoline & Mid & unsp & Alloy \\\\\n",
       "\t17 & 17 & 10765 & 430 & f & 66453.0 & 2002 & Silver & 4.3 & Gasoline & New & unsp & Alloy \\\\\n",
       "\t18 & 18 & 9994 & 430 & f & 84097.0 & 2003 & Silver & 4.3 & Gasoline & ENC & unsp & Alloy \\\\\n",
       "\t19 & 19 & 9995 & 430 & t & 97240.0 & 2002 & Gray & 4.3 & Gasoline & Mtn & unsp & Alloy \\\\\n",
       "\t20 & 20 & 9339 & 430 & f & 143997.0 & 2004 & Gray & 4.3 & Gasoline & Mtn & unsp & Alloy \\\\\n",
       "\t21 & 21 & 8800 & 430 & f & 125438.0 & 2004 & Silver & 4.3 & Gasoline & WSC & unsp & unsp \\\\\n",
       "\t22 & 22 & 16950 & 430 & f & 83507.0 & 2006 & Blue & 4.3 & Gasoline & Mtn & Premium & unsp \\\\\n",
       "\t23 & 23 & 8995 & 430 & f & 121640.0 & 2001 & Blue & 4.3 & Gasoline & Mtn & unsp & Alloy \\\\\n",
       "\t24 & 24 & 8875 & 430 & f & 136514.0 & 2001 & other & 4.3 & Gasoline & SoA & Premium & Alloy \\\\\n",
       "\t25 & 25 & 5900 & 430 & f & 144645.0 & 2001 & Silver & 4.3 & Gasoline & SoA & unsp & unsp \\\\\n",
       "\t26 & 26 & 6995 & 430 & f & 178000.0 & 2002 & Silver & 4.3 & Gasoline & SoA & unsp & Alloy \\\\\n",
       "\t27 & 27 & 7990 & 430 & f & 83770.0 & 2003 & Silver & 4.3 & Gasoline & New & Bose & Alloy \\\\\n",
       "\t28 & 28 & 7999 & 430 & t & 89024.0 & 2002 & Silver & 4.3 & Gasoline & SoA & Premium & Alloy \\\\\n",
       "\t29 & 29 & 6995 & 430 & f & 141610.0 & 2002 & Silver & 4.3 & Gasoline & WSC & unsp & unsp \\\\\n",
       "\t30 & 30 & 3499 & 430 & f & 176699.0 & 2000 & Silver & 4.3 & Gasoline & ENC & unsp & Alloy \\\\\n",
       "\t$\\dots$ & $\\dots$ & $\\dots$ & $\\dots$ & $\\dots$ & $\\dots$ & $\\dots$ & $\\dots$ & $\\dots$ & $\\dots$ & $\\dots$ & $\\dots$ & $\\dots$ \\\\\n",
       "\\end{tabular}\n"
      ],
      "text/plain": [
       "20063×12 DataFrame. Omitted printing of 6 columns\n",
       "│ Row   │ Column1 │ price  │ trim    │ isOneOwner │ mileage  │ year   │\n",
       "│       │ \u001b[90mInt64⍰\u001b[39m  │ \u001b[90mInt64⍰\u001b[39m │ \u001b[90mString⍰\u001b[39m │ \u001b[90mString⍰\u001b[39m    │ \u001b[90mFloat64⍰\u001b[39m │ \u001b[90mInt64⍰\u001b[39m │\n",
       "├───────┼─────────┼────────┼─────────┼────────────┼──────────┼────────┤\n",
       "│ 1     │ 1       │ 2988   │ 320     │ f          │ 193296.0 │ 1995   │\n",
       "│ 2     │ 2       │ 6595   │ 320     │ f          │ 129948.0 │ 1995   │\n",
       "│ 3     │ 3       │ 7993   │ 320     │ f          │ 140428.0 │ 1997   │\n",
       "│ 4     │ 4       │ 5995   │ 420     │ f          │ 113622.0 │ 1999   │\n",
       "│ 5     │ 5       │ 3000   │ 420     │ f          │ 167673.0 │ 1999   │\n",
       "│ 6     │ 6       │ 7400   │ 430     │ f          │ 82419.0  │ 2002   │\n",
       "│ 7     │ 7       │ 10850  │ 430     │ f          │ 101264.0 │ 2000   │\n",
       "│ 8     │ 8       │ 8990   │ 430     │ f          │ 110651.0 │ 2001   │\n",
       "│ 9     │ 9       │ 7950   │ 430     │ f          │ 108173.0 │ 2000   │\n",
       "│ 10    │ 10      │ 7995   │ 430     │ f          │ 119978.0 │ 2000   │\n",
       "⋮\n",
       "│ 20053 │ 20053   │ 62899  │ 550     │ f          │ 25352.0  │ 2012   │\n",
       "│ 20054 │ 20054   │ 55798  │ 550     │ f          │ 29248.0  │ 2013   │\n",
       "│ 20055 │ 20055   │ 56995  │ 550     │ f          │ 32485.0  │ 2013   │\n",
       "│ 20056 │ 20056   │ 48999  │ 550     │ f          │ 38394.0  │ 2012   │\n",
       "│ 20057 │ 20057   │ 71998  │ 550     │ f          │ 12230.0  │ 2013   │\n",
       "│ 20058 │ 20058   │ 45995  │ 550     │ t          │ 48926.0  │ 2012   │\n",
       "│ 20059 │ 20059   │ 67950  │ 550     │ t          │ 17181.0  │ 2013   │\n",
       "│ 20060 │ 20060   │ 31995  │ 400     │ t          │ 53885.0  │ 2010   │\n",
       "│ 20061 │ 20061   │ 34995  │ 400     │ f          │ 47484.0  │ 2010   │\n",
       "│ 20062 │ 20062   │ 38991  │ 400     │ f          │ 42972.0  │ 2010   │\n",
       "│ 20063 │ 20063   │ 34995  │ 400     │ t          │ 46495.0  │ 2011   │"
      ]
     },
     "execution_count": 8,
     "metadata": {},
     "output_type": "execute_result"
    }
   ],
   "source": [
    "\n",
    "isfile(\"susedcars.csv\") || download(\"http://www.rob-mcculloch.org/data/usedcars.csv\")\n",
    "\n",
    "\n",
    "using CSV, DataFrames\n",
    "file = \"usedcars.csv\"\n",
    "\n",
    "df = DataFrame(CSV.File(file)) "
   ]
  },
  {
   "cell_type": "code",
   "execution_count": 7,
   "metadata": {},
   "outputs": [
    {
     "name": "stdout",
     "output_type": "stream",
     "text": [
      "4.Kernel_Ridge_Regression_Boston_Housing.jl\n",
      "4.Kernel_Ridge_Regression_Boston_Housing.jl~\n",
      "bin\n",
      "boston_data.jl\n",
      "BostonHousing.csv\n",
      "BostonMLR.ipynb\n",
      "call_from_julia6.R\n",
      "finally.jl\n",
      "flux.ipynb\n",
      "flux.jl\n",
      "gks-2.svg\n",
      "gks-3.svg\n",
      "gks.svg\n",
      "housing.data\n",
      "hw6.ipynb\n",
      "hw81.jl\n",
      "hw8.jl\n",
      "hw92.jl\n",
      "hw9.jl\n",
      "hw9.jl~\n",
      "intro.jl\n",
      "logit_regression.ipynb\n",
      "mlp_boston.jl\n",
      "mlp_boston.jl.orig\n",
      "MLP_flux.ipynb\n",
      "mlp.jl\n",
      "mocha.jl\n",
      "nearest_neighbour.ipynb\n",
      "paths.jl\n",
      "Progress_Report.ipynb\n",
      "RCall_working.ipynb\n",
      "resv-P.csv\n",
      "r_julia.jl\n",
      "SGD.ipynb\n",
      "sms_spam.csv\n",
      "SuperLearn.jl\n",
      "tf.jl\n",
      "try2.jl\n",
      "try3.jl\n",
      "try.jl\n",
      "Untitled1.ipynb\n",
      "Untitled2.ipynb\n",
      "Untitled3.ipynb\n",
      "Untitled4.ipynb\n",
      "Untitled5.ipynb\n",
      "Untitled6.ipynb\n",
      "Untitled.ipynb\n",
      "use_cars.ipynb\n",
      "usedcars.csv\n"
     ]
    },
    {
     "data": {
      "text/plain": [
       "Process(`\u001b[4mls\u001b[24m`, ProcessExited(0))"
      ]
     },
     "execution_count": 7,
     "metadata": {},
     "output_type": "execute_result"
    }
   ],
   "source": [
    "run(`ls `)"
   ]
  },
  {
   "cell_type": "code",
   "execution_count": null,
   "metadata": {},
   "outputs": [],
   "source": []
  }
 ],
 "metadata": {
  "kernelspec": {
   "display_name": "Julia 1.1.0",
   "language": "julia",
   "name": "julia-1.1"
  },
  "language_info": {
   "file_extension": ".jl",
   "mimetype": "application/julia",
   "name": "julia",
   "version": "1.1.0"
  }
 },
 "nbformat": 4,
 "nbformat_minor": 4
}
