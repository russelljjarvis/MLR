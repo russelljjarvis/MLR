{
 "cells": [
  {
   "cell_type": "code",
   "execution_count": 1,
   "metadata": {},
   "outputs": [
    {
     "name": "stdout",
     "output_type": "stream",
     "text": [
      "Symbol[:crim, :zn, :indus, :chas, :nox, :rm, :age, :dis, :rad, :tax, :ptratio, :b, :lstat, :medv]loss(x_train, y_train) = 435.70901699310446 (tracked)\n",
      "loss(x_train, y_train) = 295.93058660533745 (tracked)\n",
      "loss(x_train, y_train) = 209.2146689276025 (tracked)\n",
      "loss(x_train, y_train) = 155.40110540003002 (tracked)\n",
      "loss(x_train, y_train) = 121.99082667328828 (tracked)\n",
      "loss(x_train, y_train) = 101.23439882946562 (tracked)\n",
      "loss(x_train, y_train) = 88.32702784686508 (tracked)\n",
      "loss(x_train, y_train) = 80.28952656205466 (tracked)\n",
      "loss(x_train, y_train) = 75.27455271554136 (tracked)\n",
      "loss(x_train, y_train) = 72.13649927969826 (tracked)\n",
      "loss(x_train, y_train) = 70.16483952262725 (tracked)\n",
      "loss(x_train, y_train) = 68.91880810701112 (tracked)\n",
      "88.36655538690475 (tracked)\n"
     ]
    },
    {
     "name": "stderr",
     "output_type": "stream",
     "text": [
      "┌ Warning: SGD(params) is deprecated; use Descent(η::Float64) instead\n",
      "│   caller = top-level scope at In[1]:78\n",
      "└ @ Core In[1]:78\n",
      "┌ Info: Epoch 1\n",
      "└ @ Main /home/russell/.julia/packages/Flux/qXNjB/src/optimise/train.jl:105\n",
      "┌ Warning: train!(loss, data, opt) is deprecated; use train!(loss, params, data, opt) instead\n",
      "│   caller = top-level scope at train.jl:106\n",
      "└ @ Core /home/russell/.julia/packages/Flux/qXNjB/src/optimise/train.jl:106\n",
      "┌ Info: Epoch 2\n",
      "└ @ Main /home/russell/.julia/packages/Flux/qXNjB/src/optimise/train.jl:105\n",
      "┌ Info: Epoch 3\n",
      "└ @ Main /home/russell/.julia/packages/Flux/qXNjB/src/optimise/train.jl:105\n",
      "┌ Info: Epoch 4\n",
      "└ @ Main /home/russell/.julia/packages/Flux/qXNjB/src/optimise/train.jl:105\n",
      "┌ Info: Epoch 5\n",
      "└ @ Main /home/russell/.julia/packages/Flux/qXNjB/src/optimise/train.jl:105\n",
      "┌ Info: Epoch 6\n",
      "└ @ Main /home/russell/.julia/packages/Flux/qXNjB/src/optimise/train.jl:105\n",
      "┌ Info: Epoch 7\n",
      "└ @ Main /home/russell/.julia/packages/Flux/qXNjB/src/optimise/train.jl:105\n",
      "┌ Info: Epoch 8\n",
      "└ @ Main /home/russell/.julia/packages/Flux/qXNjB/src/optimise/train.jl:105\n",
      "┌ Info: Epoch 9\n",
      "└ @ Main /home/russell/.julia/packages/Flux/qXNjB/src/optimise/train.jl:105\n",
      "┌ Info: Epoch 10\n",
      "└ @ Main /home/russell/.julia/packages/Flux/qXNjB/src/optimise/train.jl:105\n",
      "┌ Info: Epoch 11\n",
      "└ @ Main /home/russell/.julia/packages/Flux/qXNjB/src/optimise/train.jl:105\n",
      "┌ Info: Epoch 12\n",
      "└ @ Main /home/russell/.julia/packages/Flux/qXNjB/src/optimise/train.jl:105\n",
      "┌ Info: Epoch 13\n",
      "└ @ Main /home/russell/.julia/packages/Flux/qXNjB/src/optimise/train.jl:105\n",
      "┌ Info: Epoch 14\n",
      "└ @ Main /home/russell/.julia/packages/Flux/qXNjB/src/optimise/train.jl:105\n",
      "┌ Info: Epoch 15\n",
      "└ @ Main /home/russell/.julia/packages/Flux/qXNjB/src/optimise/train.jl:105\n",
      "┌ Info: Epoch 16\n",
      "└ @ Main /home/russell/.julia/packages/Flux/qXNjB/src/optimise/train.jl:105\n",
      "┌ Info: Epoch 17\n",
      "└ @ Main /home/russell/.julia/packages/Flux/qXNjB/src/optimise/train.jl:105\n",
      "┌ Info: Epoch 18\n",
      "└ @ Main /home/russell/.julia/packages/Flux/qXNjB/src/optimise/train.jl:105\n",
      "┌ Info: Epoch 19\n",
      "└ @ Main /home/russell/.julia/packages/Flux/qXNjB/src/optimise/train.jl:105\n",
      "┌ Info: Epoch 20\n",
      "└ @ Main /home/russell/.julia/packages/Flux/qXNjB/src/optimise/train.jl:105\n",
      "┌ Info: Epoch 21\n",
      "└ @ Main /home/russell/.julia/packages/Flux/qXNjB/src/optimise/train.jl:105\n",
      "┌ Info: Epoch 22\n",
      "└ @ Main /home/russell/.julia/packages/Flux/qXNjB/src/optimise/train.jl:105\n",
      "┌ Info: Epoch 23\n",
      "└ @ Main /home/russell/.julia/packages/Flux/qXNjB/src/optimise/train.jl:105\n",
      "┌ Info: Epoch 24\n",
      "└ @ Main /home/russell/.julia/packages/Flux/qXNjB/src/optimise/train.jl:105\n",
      "┌ Info: Epoch 25\n",
      "└ @ Main /home/russell/.julia/packages/Flux/qXNjB/src/optimise/train.jl:105\n",
      "┌ Info: Epoch 26\n",
      "└ @ Main /home/russell/.julia/packages/Flux/qXNjB/src/optimise/train.jl:105\n",
      "┌ Info: Epoch 27\n",
      "└ @ Main /home/russell/.julia/packages/Flux/qXNjB/src/optimise/train.jl:105\n",
      "┌ Info: Epoch 28\n",
      "└ @ Main /home/russell/.julia/packages/Flux/qXNjB/src/optimise/train.jl:105\n",
      "┌ Info: Epoch 29\n",
      "└ @ Main /home/russell/.julia/packages/Flux/qXNjB/src/optimise/train.jl:105\n",
      "┌ Info: Epoch 30\n",
      "└ @ Main /home/russell/.julia/packages/Flux/qXNjB/src/optimise/train.jl:105\n",
      "┌ Info: Epoch 31\n",
      "└ @ Main /home/russell/.julia/packages/Flux/qXNjB/src/optimise/train.jl:105\n",
      "┌ Info: Epoch 32\n",
      "└ @ Main /home/russell/.julia/packages/Flux/qXNjB/src/optimise/train.jl:105\n",
      "┌ Info: Epoch 33\n",
      "└ @ Main /home/russell/.julia/packages/Flux/qXNjB/src/optimise/train.jl:105\n",
      "┌ Info: Epoch 34\n",
      "└ @ Main /home/russell/.julia/packages/Flux/qXNjB/src/optimise/train.jl:105\n",
      "┌ Info: Epoch 35\n",
      "└ @ Main /home/russell/.julia/packages/Flux/qXNjB/src/optimise/train.jl:105\n",
      "┌ Info: Epoch 36\n",
      "└ @ Main /home/russell/.julia/packages/Flux/qXNjB/src/optimise/train.jl:105\n",
      "┌ Info: Epoch 37\n",
      "└ @ Main /home/russell/.julia/packages/Flux/qXNjB/src/optimise/train.jl:105\n",
      "┌ Info: Epoch 38\n",
      "└ @ Main /home/russell/.julia/packages/Flux/qXNjB/src/optimise/train.jl:105\n",
      "┌ Info: Epoch 39\n",
      "└ @ Main /home/russell/.julia/packages/Flux/qXNjB/src/optimise/train.jl:105\n",
      "┌ Info: Epoch 40\n",
      "└ @ Main /home/russell/.julia/packages/Flux/qXNjB/src/optimise/train.jl:105\n",
      "┌ Info: Epoch 41\n",
      "└ @ Main /home/russell/.julia/packages/Flux/qXNjB/src/optimise/train.jl:105\n",
      "┌ Info: Epoch 42\n",
      "└ @ Main /home/russell/.julia/packages/Flux/qXNjB/src/optimise/train.jl:105\n",
      "┌ Info: Epoch 43\n",
      "└ @ Main /home/russell/.julia/packages/Flux/qXNjB/src/optimise/train.jl:105\n",
      "┌ Info: Epoch 44\n",
      "└ @ Main /home/russell/.julia/packages/Flux/qXNjB/src/optimise/train.jl:105\n",
      "┌ Info: Epoch 45\n",
      "└ @ Main /home/russell/.julia/packages/Flux/qXNjB/src/optimise/train.jl:105\n",
      "┌ Info: Epoch 46\n",
      "└ @ Main /home/russell/.julia/packages/Flux/qXNjB/src/optimise/train.jl:105\n",
      "┌ Info: Epoch 47\n",
      "└ @ Main /home/russell/.julia/packages/Flux/qXNjB/src/optimise/train.jl:105\n",
      "┌ Info: Epoch 48\n",
      "└ @ Main /home/russell/.julia/packages/Flux/qXNjB/src/optimise/train.jl:105\n",
      "┌ Info: Epoch 49\n",
      "└ @ Main /home/russell/.julia/packages/Flux/qXNjB/src/optimise/train.jl:105\n",
      "┌ Info: Epoch 50\n",
      "└ @ Main /home/russell/.julia/packages/Flux/qXNjB/src/optimise/train.jl:105\n",
      "┌ Info: Epoch 51\n",
      "└ @ Main /home/russell/.julia/packages/Flux/qXNjB/src/optimise/train.jl:105\n",
      "┌ Info: Epoch 52\n",
      "└ @ Main /home/russell/.julia/packages/Flux/qXNjB/src/optimise/train.jl:105\n",
      "┌ Info: Epoch 53\n",
      "└ @ Main /home/russell/.julia/packages/Flux/qXNjB/src/optimise/train.jl:105\n",
      "┌ Info: Epoch 54\n",
      "└ @ Main /home/russell/.julia/packages/Flux/qXNjB/src/optimise/train.jl:105\n",
      "┌ Info: Epoch 55\n",
      "└ @ Main /home/russell/.julia/packages/Flux/qXNjB/src/optimise/train.jl:105\n",
      "┌ Info: Epoch 56\n",
      "└ @ Main /home/russell/.julia/packages/Flux/qXNjB/src/optimise/train.jl:105\n",
      "┌ Info: Epoch 57\n",
      "└ @ Main /home/russell/.julia/packages/Flux/qXNjB/src/optimise/train.jl:105\n",
      "┌ Info: Epoch 58\n",
      "└ @ Main /home/russell/.julia/packages/Flux/qXNjB/src/optimise/train.jl:105\n",
      "┌ Info: Epoch 59\n",
      "└ @ Main /home/russell/.julia/packages/Flux/qXNjB/src/optimise/train.jl:105\n",
      "┌ Info: Epoch 60\n",
      "└ @ Main /home/russell/.julia/packages/Flux/qXNjB/src/optimise/train.jl:105\n",
      "┌ Info: Epoch 61\n",
      "└ @ Main /home/russell/.julia/packages/Flux/qXNjB/src/optimise/train.jl:105\n",
      "┌ Info: Epoch 62\n",
      "└ @ Main /home/russell/.julia/packages/Flux/qXNjB/src/optimise/train.jl:105\n",
      "┌ Info: Epoch 63\n",
      "└ @ Main /home/russell/.julia/packages/Flux/qXNjB/src/optimise/train.jl:105\n",
      "┌ Info: Epoch 64\n",
      "└ @ Main /home/russell/.julia/packages/Flux/qXNjB/src/optimise/train.jl:105\n",
      "┌ Info: Epoch 65\n",
      "└ @ Main /home/russell/.julia/packages/Flux/qXNjB/src/optimise/train.jl:105\n",
      "┌ Info: Epoch 66\n",
      "└ @ Main /home/russell/.julia/packages/Flux/qXNjB/src/optimise/train.jl:105\n",
      "┌ Info: Epoch 67\n",
      "└ @ Main /home/russell/.julia/packages/Flux/qXNjB/src/optimise/train.jl:105\n",
      "┌ Info: Epoch 68\n",
      "└ @ Main /home/russell/.julia/packages/Flux/qXNjB/src/optimise/train.jl:105\n",
      "┌ Info: Epoch 69\n",
      "└ @ Main /home/russell/.julia/packages/Flux/qXNjB/src/optimise/train.jl:105\n",
      "┌ Info: Epoch 70\n",
      "└ @ Main /home/russell/.julia/packages/Flux/qXNjB/src/optimise/train.jl:105\n",
      "┌ Info: Epoch 71\n",
      "└ @ Main /home/russell/.julia/packages/Flux/qXNjB/src/optimise/train.jl:105\n",
      "┌ Info: Epoch 72\n",
      "└ @ Main /home/russell/.julia/packages/Flux/qXNjB/src/optimise/train.jl:105\n",
      "┌ Info: Epoch 73\n",
      "└ @ Main /home/russell/.julia/packages/Flux/qXNjB/src/optimise/train.jl:105\n",
      "┌ Info: Epoch 74\n",
      "└ @ Main /home/russell/.julia/packages/Flux/qXNjB/src/optimise/train.jl:105\n",
      "┌ Info: Epoch 75\n",
      "└ @ Main /home/russell/.julia/packages/Flux/qXNjB/src/optimise/train.jl:105\n",
      "┌ Info: Epoch 76\n",
      "└ @ Main /home/russell/.julia/packages/Flux/qXNjB/src/optimise/train.jl:105\n",
      "┌ Info: Epoch 77\n",
      "└ @ Main /home/russell/.julia/packages/Flux/qXNjB/src/optimise/train.jl:105\n",
      "┌ Info: Epoch 78\n",
      "└ @ Main /home/russell/.julia/packages/Flux/qXNjB/src/optimise/train.jl:105\n",
      "┌ Info: Epoch 79\n",
      "└ @ Main /home/russell/.julia/packages/Flux/qXNjB/src/optimise/train.jl:105\n",
      "┌ Info: Epoch 80\n",
      "└ @ Main /home/russell/.julia/packages/Flux/qXNjB/src/optimise/train.jl:105\n",
      "┌ Info: Epoch 81\n",
      "└ @ Main /home/russell/.julia/packages/Flux/qXNjB/src/optimise/train.jl:105\n",
      "┌ Info: Epoch 82\n",
      "└ @ Main /home/russell/.julia/packages/Flux/qXNjB/src/optimise/train.jl:105\n",
      "┌ Info: Epoch 83\n",
      "└ @ Main /home/russell/.julia/packages/Flux/qXNjB/src/optimise/train.jl:105\n",
      "┌ Info: Epoch 84\n",
      "└ @ Main /home/russell/.julia/packages/Flux/qXNjB/src/optimise/train.jl:105\n",
      "┌ Info: Epoch 85\n",
      "└ @ Main /home/russell/.julia/packages/Flux/qXNjB/src/optimise/train.jl:105\n",
      "┌ Info: Epoch 86\n",
      "└ @ Main /home/russell/.julia/packages/Flux/qXNjB/src/optimise/train.jl:105\n"
     ]
    },
    {
     "name": "stderr",
     "output_type": "stream",
     "text": [
      "┌ Info: Epoch 87\n",
      "└ @ Main /home/russell/.julia/packages/Flux/qXNjB/src/optimise/train.jl:105\n",
      "┌ Info: Epoch 88\n",
      "└ @ Main /home/russell/.julia/packages/Flux/qXNjB/src/optimise/train.jl:105\n",
      "┌ Info: Epoch 89\n",
      "└ @ Main /home/russell/.julia/packages/Flux/qXNjB/src/optimise/train.jl:105\n",
      "┌ Info: Epoch 90\n",
      "└ @ Main /home/russell/.julia/packages/Flux/qXNjB/src/optimise/train.jl:105\n",
      "┌ Info: Epoch 91\n",
      "└ @ Main /home/russell/.julia/packages/Flux/qXNjB/src/optimise/train.jl:105\n",
      "┌ Info: Epoch 92\n",
      "└ @ Main /home/russell/.julia/packages/Flux/qXNjB/src/optimise/train.jl:105\n",
      "┌ Info: Epoch 93\n",
      "└ @ Main /home/russell/.julia/packages/Flux/qXNjB/src/optimise/train.jl:105\n",
      "┌ Info: Epoch 94\n",
      "└ @ Main /home/russell/.julia/packages/Flux/qXNjB/src/optimise/train.jl:105\n",
      "┌ Info: Epoch 95\n",
      "└ @ Main /home/russell/.julia/packages/Flux/qXNjB/src/optimise/train.jl:105\n",
      "┌ Info: Epoch 96\n",
      "└ @ Main /home/russell/.julia/packages/Flux/qXNjB/src/optimise/train.jl:105\n",
      "┌ Info: Epoch 97\n",
      "└ @ Main /home/russell/.julia/packages/Flux/qXNjB/src/optimise/train.jl:105\n",
      "┌ Info: Epoch 98\n",
      "└ @ Main /home/russell/.julia/packages/Flux/qXNjB/src/optimise/train.jl:105\n",
      "┌ Info: Epoch 99\n",
      "└ @ Main /home/russell/.julia/packages/Flux/qXNjB/src/optimise/train.jl:105\n",
      "┌ Info: Epoch 100\n",
      "└ @ Main /home/russell/.julia/packages/Flux/qXNjB/src/optimise/train.jl:105\n",
      "┌ Info: Epoch 1\n",
      "└ @ Main /home/russell/.julia/packages/Flux/qXNjB/src/optimise/train.jl:105\n"
     ]
    },
    {
     "name": "stdout",
     "output_type": "stream",
     "text": [
      "loss(tx, ty) = 3.5225521596144238e6 (tracked)\n",
      "loss(tx, ty) = 3.5225521596144238e6 (tracked)\n",
      "loss(tx, ty) = 3.5225521596144238e6 (tracked)\n"
     ]
    },
    {
     "name": "stderr",
     "output_type": "stream",
     "text": [
      "┌ Info: Epoch 2\n",
      "└ @ Main /home/russell/.julia/packages/Flux/qXNjB/src/optimise/train.jl:105\n"
     ]
    },
    {
     "name": "stdout",
     "output_type": "stream",
     "text": [
      "loss(tx, ty) = 3.5225521596144238e6 (tracked)\n",
      "loss(tx, ty) = 3.5225521596144238e6 (tracked)\n"
     ]
    },
    {
     "name": "stderr",
     "output_type": "stream",
     "text": [
      "┌ Info: Epoch 3\n",
      "└ @ Main /home/russell/.julia/packages/Flux/qXNjB/src/optimise/train.jl:105\n"
     ]
    },
    {
     "name": "stdout",
     "output_type": "stream",
     "text": [
      "loss(tx, ty) = 3.5225521596144238e6 (tracked)\n"
     ]
    },
    {
     "name": "stderr",
     "output_type": "stream",
     "text": [
      "┌ Info: Epoch 4\n",
      "└ @ Main /home/russell/.julia/packages/Flux/qXNjB/src/optimise/train.jl:105\n"
     ]
    },
    {
     "name": "stdout",
     "output_type": "stream",
     "text": [
      "loss(tx, ty) = 3.5225521596144238e6 (tracked)\n",
      "loss(tx, ty) = 3.5225521596144238e6 (tracked)\n"
     ]
    },
    {
     "name": "stderr",
     "output_type": "stream",
     "text": [
      "┌ Info: Epoch 5\n",
      "└ @ Main /home/russell/.julia/packages/Flux/qXNjB/src/optimise/train.jl:105\n"
     ]
    },
    {
     "name": "stdout",
     "output_type": "stream",
     "text": [
      "loss(tx, ty) = 3.5225521596144238e6 (tracked)\n",
      "loss(tx, ty) = 3.5225521596144238e6 (tracked)\n",
      "loss(tx, ty) = 3.5225521596144238e6 (tracked)\n"
     ]
    },
    {
     "name": "stderr",
     "output_type": "stream",
     "text": [
      "┌ Info: Epoch 6\n",
      "└ @ Main /home/russell/.julia/packages/Flux/qXNjB/src/optimise/train.jl:105\n"
     ]
    },
    {
     "name": "stdout",
     "output_type": "stream",
     "text": [
      "loss(tx, ty) = 3.5225521596144238e6 (tracked)\n"
     ]
    },
    {
     "name": "stderr",
     "output_type": "stream",
     "text": [
      "┌ Info: Epoch 7\n",
      "└ @ Main /home/russell/.julia/packages/Flux/qXNjB/src/optimise/train.jl:105\n"
     ]
    },
    {
     "name": "stdout",
     "output_type": "stream",
     "text": [
      "loss(tx, ty) = 3.5225521596144238e6 (tracked)\n",
      "loss(tx, ty) = 3.5225521596144238e6 (tracked)\n"
     ]
    },
    {
     "name": "stderr",
     "output_type": "stream",
     "text": [
      "┌ Info: Epoch 8\n",
      "└ @ Main /home/russell/.julia/packages/Flux/qXNjB/src/optimise/train.jl:105\n"
     ]
    },
    {
     "name": "stdout",
     "output_type": "stream",
     "text": [
      "loss(tx, ty) = 3.5225521596144238e6 (tracked)\n",
      "loss(tx, ty) = 3.5225521596144238e6 (tracked)\n"
     ]
    },
    {
     "name": "stderr",
     "output_type": "stream",
     "text": [
      "┌ Info: Epoch 9\n",
      "└ @ Main /home/russell/.julia/packages/Flux/qXNjB/src/optimise/train.jl:105\n"
     ]
    },
    {
     "name": "stdout",
     "output_type": "stream",
     "text": [
      "loss(tx, ty) = 3.5225521596144238e6 (tracked)\n",
      "loss(tx, ty) = 3.5225521596144238e6 (tracked)\n",
      "loss(tx, ty) = 3.5225521596144238e6 (tracked)\n"
     ]
    },
    {
     "name": "stderr",
     "output_type": "stream",
     "text": [
      "┌ Info: Epoch 10\n",
      "└ @ Main /home/russell/.julia/packages/Flux/qXNjB/src/optimise/train.jl:105\n"
     ]
    },
    {
     "name": "stdout",
     "output_type": "stream",
     "text": [
      "loss(tx, ty) = 3.5225521596144238e6 (tracked)\n"
     ]
    },
    {
     "name": "stderr",
     "output_type": "stream",
     "text": [
      "┌ Info: Epoch 11\n",
      "└ @ Main /home/russell/.julia/packages/Flux/qXNjB/src/optimise/train.jl:105\n"
     ]
    },
    {
     "name": "stdout",
     "output_type": "stream",
     "text": [
      "loss(tx, ty) = 3.5225521596144238e6 (tracked)\n",
      "loss(tx, ty) = 3.5225521596144238e6 (tracked)\n",
      "loss(tx, ty) = 3.5225521596144238e6 (tracked)\n"
     ]
    },
    {
     "name": "stderr",
     "output_type": "stream",
     "text": [
      "┌ Info: Epoch 12\n",
      "└ @ Main /home/russell/.julia/packages/Flux/qXNjB/src/optimise/train.jl:105\n"
     ]
    },
    {
     "name": "stdout",
     "output_type": "stream",
     "text": [
      "loss(tx, ty) = 3.5225521596144238e6 (tracked)\n",
      "loss(tx, ty) = 3.5225521596144238e6 (tracked)\n"
     ]
    },
    {
     "name": "stderr",
     "output_type": "stream",
     "text": [
      "┌ Info: Epoch 13\n",
      "└ @ Main /home/russell/.julia/packages/Flux/qXNjB/src/optimise/train.jl:105\n"
     ]
    },
    {
     "name": "stdout",
     "output_type": "stream",
     "text": [
      "loss(tx, ty) = 3.5225521596144238e6 (tracked)\n"
     ]
    },
    {
     "name": "stderr",
     "output_type": "stream",
     "text": [
      "┌ Info: Epoch 14\n",
      "└ @ Main /home/russell/.julia/packages/Flux/qXNjB/src/optimise/train.jl:105\n"
     ]
    },
    {
     "name": "stdout",
     "output_type": "stream",
     "text": [
      "loss(tx, ty) = 3.5225521596144238e6 (tracked)\n",
      "loss(tx, ty) = 3.5225521596144238e6 (tracked)\n",
      "loss(tx, ty) = 3.5225521596144238e6 (tracked)\n"
     ]
    },
    {
     "name": "stderr",
     "output_type": "stream",
     "text": [
      "┌ Info: Epoch 15\n",
      "└ @ Main /home/russell/.julia/packages/Flux/qXNjB/src/optimise/train.jl:105\n"
     ]
    },
    {
     "name": "stdout",
     "output_type": "stream",
     "text": [
      "loss(tx, ty) = 3.5225521596144238e6 (tracked)\n",
      "loss(tx, ty) = 3.5225521596144238e6 (tracked)\n"
     ]
    },
    {
     "name": "stderr",
     "output_type": "stream",
     "text": [
      "┌ Info: Epoch 16\n",
      "└ @ Main /home/russell/.julia/packages/Flux/qXNjB/src/optimise/train.jl:105\n"
     ]
    },
    {
     "name": "stdout",
     "output_type": "stream",
     "text": [
      "loss(tx, ty) = 3.5225521596144238e6 (tracked)\n"
     ]
    },
    {
     "name": "stderr",
     "output_type": "stream",
     "text": [
      "┌ Info: Epoch 17\n",
      "└ @ Main /home/russell/.julia/packages/Flux/qXNjB/src/optimise/train.jl:105\n"
     ]
    },
    {
     "name": "stdout",
     "output_type": "stream",
     "text": [
      "loss(tx, ty) = 3.5225521596144238e6 (tracked)\n",
      "loss(tx, ty) = 3.5225521596144238e6 (tracked)\n",
      "loss(tx, ty) = 3.5225521596144238e6 (tracked)\n"
     ]
    },
    {
     "name": "stderr",
     "output_type": "stream",
     "text": [
      "┌ Info: Epoch 18\n",
      "└ @ Main /home/russell/.julia/packages/Flux/qXNjB/src/optimise/train.jl:105\n"
     ]
    },
    {
     "name": "stdout",
     "output_type": "stream",
     "text": [
      "loss(tx, ty) = 3.5225521596144238e6 (tracked)\n"
     ]
    },
    {
     "name": "stderr",
     "output_type": "stream",
     "text": [
      "┌ Info: Epoch 19\n",
      "└ @ Main /home/russell/.julia/packages/Flux/qXNjB/src/optimise/train.jl:105\n"
     ]
    },
    {
     "name": "stdout",
     "output_type": "stream",
     "text": [
      "loss(tx, ty) = 3.5225521596144238e6 (tracked)\n",
      "loss(tx, ty) = 3.5225521596144238e6 (tracked)\n",
      "loss(tx, ty) = 3.5225521596144238e6 (tracked)\n"
     ]
    },
    {
     "name": "stderr",
     "output_type": "stream",
     "text": [
      "┌ Info: Epoch 20\n",
      "└ @ Main /home/russell/.julia/packages/Flux/qXNjB/src/optimise/train.jl:105\n"
     ]
    },
    {
     "name": "stdout",
     "output_type": "stream",
     "text": [
      "loss(tx, ty) = 3.5225521596144238e6 (tracked)\n",
      "loss(tx, ty) = 3.5225521596144238e6 (tracked)\n"
     ]
    },
    {
     "name": "stderr",
     "output_type": "stream",
     "text": [
      "┌ Info: Epoch 21\n",
      "└ @ Main /home/russell/.julia/packages/Flux/qXNjB/src/optimise/train.jl:105\n"
     ]
    },
    {
     "name": "stdout",
     "output_type": "stream",
     "text": [
      "loss(tx, ty) = 3.5225521596144238e6 (tracked)\n"
     ]
    },
    {
     "name": "stderr",
     "output_type": "stream",
     "text": [
      "┌ Info: Epoch 22\n",
      "└ @ Main /home/russell/.julia/packages/Flux/qXNjB/src/optimise/train.jl:105\n"
     ]
    },
    {
     "name": "stdout",
     "output_type": "stream",
     "text": [
      "loss(tx, ty) = 3.5225521596144238e6 (tracked)\n",
      "loss(tx, ty) = 3.5225521596144238e6 (tracked)\n",
      "loss(tx, ty) = 3.5225521596144238e6 (tracked)\n"
     ]
    },
    {
     "name": "stderr",
     "output_type": "stream",
     "text": [
      "┌ Info: Epoch 23\n",
      "└ @ Main /home/russell/.julia/packages/Flux/qXNjB/src/optimise/train.jl:105\n"
     ]
    },
    {
     "name": "stdout",
     "output_type": "stream",
     "text": [
      "loss(tx, ty) = 3.5225521596144238e6 (tracked)\n",
      "loss(tx, ty) = 3.5225521596144238e6 (tracked)\n"
     ]
    },
    {
     "name": "stderr",
     "output_type": "stream",
     "text": [
      "┌ Info: Epoch 24\n",
      "└ @ Main /home/russell/.julia/packages/Flux/qXNjB/src/optimise/train.jl:105\n"
     ]
    },
    {
     "name": "stdout",
     "output_type": "stream",
     "text": [
      "loss(tx, ty) = 3.5225521596144238e6 (tracked)\n",
      "loss(tx, ty) = 3.5225521596144238e6 (tracked)\n"
     ]
    },
    {
     "name": "stderr",
     "output_type": "stream",
     "text": [
      "┌ Info: Epoch 25\n",
      "└ @ Main /home/russell/.julia/packages/Flux/qXNjB/src/optimise/train.jl:105\n"
     ]
    },
    {
     "name": "stdout",
     "output_type": "stream",
     "text": [
      "loss(tx, ty) = 3.5225521596144238e6 (tracked)\n"
     ]
    },
    {
     "name": "stderr",
     "output_type": "stream",
     "text": [
      "┌ Info: Epoch 26\n",
      "└ @ Main /home/russell/.julia/packages/Flux/qXNjB/src/optimise/train.jl:105\n"
     ]
    },
    {
     "name": "stdout",
     "output_type": "stream",
     "text": [
      "loss(tx, ty) = 3.5225521596144238e6 (tracked)\n",
      "loss(tx, ty) = 3.5225521596144238e6 (tracked)\n",
      "loss(tx, ty) = 3.5225521596144238e6 (tracked)\n"
     ]
    },
    {
     "name": "stderr",
     "output_type": "stream",
     "text": [
      "┌ Info: Epoch 27\n",
      "└ @ Main /home/russell/.julia/packages/Flux/qXNjB/src/optimise/train.jl:105\n"
     ]
    },
    {
     "name": "stdout",
     "output_type": "stream",
     "text": [
      "loss(tx, ty) = 3.5225521596144238e6 (tracked)\n"
     ]
    },
    {
     "name": "stderr",
     "output_type": "stream",
     "text": [
      "┌ Info: Epoch 28\n",
      "└ @ Main /home/russell/.julia/packages/Flux/qXNjB/src/optimise/train.jl:105\n"
     ]
    },
    {
     "name": "stdout",
     "output_type": "stream",
     "text": [
      "loss(tx, ty) = 3.5225521596144238e6 (tracked)\n",
      "loss(tx, ty) = 3.5225521596144238e6 (tracked)\n",
      "loss(tx, ty) = 3.5225521596144238e6 (tracked)\n"
     ]
    },
    {
     "name": "stderr",
     "output_type": "stream",
     "text": [
      "┌ Info: Epoch 29\n",
      "└ @ Main /home/russell/.julia/packages/Flux/qXNjB/src/optimise/train.jl:105\n"
     ]
    },
    {
     "name": "stdout",
     "output_type": "stream",
     "text": [
      "loss(tx, ty) = 3.5225521596144238e6 (tracked)\n",
      "loss(tx, ty) = 3.5225521596144238e6 (tracked)\n"
     ]
    },
    {
     "name": "stderr",
     "output_type": "stream",
     "text": [
      "┌ Info: Epoch 30\n",
      "└ @ Main /home/russell/.julia/packages/Flux/qXNjB/src/optimise/train.jl:105\n"
     ]
    },
    {
     "name": "stdout",
     "output_type": "stream",
     "text": [
      "loss(tx, ty) = 3.5225521596144238e6 (tracked)\n"
     ]
    },
    {
     "name": "stderr",
     "output_type": "stream",
     "text": [
      "┌ Info: Epoch 31\n",
      "└ @ Main /home/russell/.julia/packages/Flux/qXNjB/src/optimise/train.jl:105\n"
     ]
    },
    {
     "name": "stdout",
     "output_type": "stream",
     "text": [
      "loss(tx, ty) = 3.5225521596144238e6 (tracked)\n",
      "loss(tx, ty) = 3.5225521596144238e6 (tracked)\n",
      "loss(tx, ty) = 3.5225521596144238e6 (tracked)\n"
     ]
    },
    {
     "name": "stderr",
     "output_type": "stream",
     "text": [
      "┌ Info: Epoch 32\n",
      "└ @ Main /home/russell/.julia/packages/Flux/qXNjB/src/optimise/train.jl:105\n"
     ]
    },
    {
     "name": "stdout",
     "output_type": "stream",
     "text": [
      "loss(tx, ty) = 3.5225521596144238e6 (tracked)\n"
     ]
    },
    {
     "name": "stderr",
     "output_type": "stream",
     "text": [
      "┌ Info: Epoch 33\n",
      "└ @ Main /home/russell/.julia/packages/Flux/qXNjB/src/optimise/train.jl:105\n"
     ]
    },
    {
     "name": "stdout",
     "output_type": "stream",
     "text": [
      "loss(tx, ty) = 3.5225521596144238e6 (tracked)\n",
      "loss(tx, ty) = 3.5225521596144238e6 (tracked)\n",
      "loss(tx, ty) = 3.5225521596144238e6 (tracked)\n"
     ]
    },
    {
     "name": "stderr",
     "output_type": "stream",
     "text": [
      "┌ Info: Epoch 34\n",
      "└ @ Main /home/russell/.julia/packages/Flux/qXNjB/src/optimise/train.jl:105\n"
     ]
    },
    {
     "name": "stdout",
     "output_type": "stream",
     "text": [
      "loss(tx, ty) = 3.5225521596144238e6 (tracked)\n",
      "loss(tx, ty) = 3.5225521596144238e6 (tracked)\n"
     ]
    },
    {
     "name": "stderr",
     "output_type": "stream",
     "text": [
      "┌ Info: Epoch 35\n",
      "└ @ Main /home/russell/.julia/packages/Flux/qXNjB/src/optimise/train.jl:105\n"
     ]
    },
    {
     "name": "stdout",
     "output_type": "stream",
     "text": [
      "loss(tx, ty) = 3.5225521596144238e6 (tracked)\n"
     ]
    },
    {
     "name": "stderr",
     "output_type": "stream",
     "text": [
      "┌ Info: Epoch 36\n",
      "└ @ Main /home/russell/.julia/packages/Flux/qXNjB/src/optimise/train.jl:105\n"
     ]
    },
    {
     "name": "stdout",
     "output_type": "stream",
     "text": [
      "loss(tx, ty) = 3.5225521596144238e6 (tracked)\n",
      "loss(tx, ty) = 3.5225521596144238e6 (tracked)\n"
     ]
    },
    {
     "name": "stderr",
     "output_type": "stream",
     "text": [
      "┌ Info: Epoch 37\n",
      "└ @ Main /home/russell/.julia/packages/Flux/qXNjB/src/optimise/train.jl:105\n"
     ]
    },
    {
     "name": "stdout",
     "output_type": "stream",
     "text": [
      "loss(tx, ty) = 3.5225521596144238e6 (tracked)\n",
      "loss(tx, ty) = 3.5225521596144238e6 (tracked)\n"
     ]
    },
    {
     "name": "stderr",
     "output_type": "stream",
     "text": [
      "┌ Info: Epoch 38\n",
      "└ @ Main /home/russell/.julia/packages/Flux/qXNjB/src/optimise/train.jl:105\n"
     ]
    },
    {
     "name": "stdout",
     "output_type": "stream",
     "text": [
      "loss(tx, ty) = 3.5225521596144238e6 (tracked)\n",
      "loss(tx, ty) = 3.5225521596144238e6 (tracked)\n",
      "loss(tx, ty) = 3.5225521596144238e6 (tracked)\n"
     ]
    },
    {
     "name": "stderr",
     "output_type": "stream",
     "text": [
      "┌ Info: Epoch 39\n",
      "└ @ Main /home/russell/.julia/packages/Flux/qXNjB/src/optimise/train.jl:105\n"
     ]
    },
    {
     "name": "stdout",
     "output_type": "stream",
     "text": [
      "loss(tx, ty) = 3.5225521596144238e6 (tracked)\n",
      "loss(tx, ty) = 3.5225521596144238e6 (tracked)\n"
     ]
    },
    {
     "name": "stderr",
     "output_type": "stream",
     "text": [
      "┌ Info: Epoch 40\n",
      "└ @ Main /home/russell/.julia/packages/Flux/qXNjB/src/optimise/train.jl:105\n"
     ]
    },
    {
     "name": "stdout",
     "output_type": "stream",
     "text": [
      "loss(tx, ty) = 3.5225521596144238e6 (tracked)\n"
     ]
    },
    {
     "name": "stderr",
     "output_type": "stream",
     "text": [
      "┌ Info: Epoch 41\n",
      "└ @ Main /home/russell/.julia/packages/Flux/qXNjB/src/optimise/train.jl:105\n"
     ]
    },
    {
     "name": "stdout",
     "output_type": "stream",
     "text": [
      "loss(tx, ty) = 3.5225521596144238e6 (tracked)\n",
      "loss(tx, ty) = 3.5225521596144238e6 (tracked)\n",
      "loss(tx, ty) = 3.5225521596144238e6 (tracked)\n"
     ]
    },
    {
     "name": "stderr",
     "output_type": "stream",
     "text": [
      "┌ Info: Epoch 42\n",
      "└ @ Main /home/russell/.julia/packages/Flux/qXNjB/src/optimise/train.jl:105\n"
     ]
    },
    {
     "name": "stdout",
     "output_type": "stream",
     "text": [
      "loss(tx, ty) = 3.5225521596144238e6 (tracked)\n"
     ]
    },
    {
     "name": "stderr",
     "output_type": "stream",
     "text": [
      "┌ Info: Epoch 43\n",
      "└ @ Main /home/russell/.julia/packages/Flux/qXNjB/src/optimise/train.jl:105\n"
     ]
    },
    {
     "name": "stdout",
     "output_type": "stream",
     "text": [
      "loss(tx, ty) = 3.5225521596144238e6 (tracked)\n",
      "loss(tx, ty) = 3.5225521596144238e6 (tracked)\n"
     ]
    },
    {
     "name": "stderr",
     "output_type": "stream",
     "text": [
      "┌ Info: Epoch 44\n",
      "└ @ Main /home/russell/.julia/packages/Flux/qXNjB/src/optimise/train.jl:105\n"
     ]
    },
    {
     "name": "stdout",
     "output_type": "stream",
     "text": [
      "loss(tx, ty) = 3.5225521596144238e6 (tracked)\n",
      "loss(tx, ty) = 3.5225521596144238e6 (tracked)\n"
     ]
    },
    {
     "name": "stderr",
     "output_type": "stream",
     "text": [
      "┌ Info: Epoch 45\n",
      "└ @ Main /home/russell/.julia/packages/Flux/qXNjB/src/optimise/train.jl:105\n"
     ]
    },
    {
     "name": "stdout",
     "output_type": "stream",
     "text": [
      "loss(tx, ty) = 3.5225521596144238e6 (tracked)\n",
      "loss(tx, ty) = 3.5225521596144238e6 (tracked)\n",
      "loss(tx, ty) = 3.5225521596144238e6 (tracked)\n"
     ]
    },
    {
     "name": "stderr",
     "output_type": "stream",
     "text": [
      "┌ Info: Epoch 46\n",
      "└ @ Main /home/russell/.julia/packages/Flux/qXNjB/src/optimise/train.jl:105\n"
     ]
    },
    {
     "name": "stdout",
     "output_type": "stream",
     "text": [
      "loss(tx, ty) = 3.5225521596144238e6 (tracked)\n"
     ]
    },
    {
     "name": "stderr",
     "output_type": "stream",
     "text": [
      "┌ Info: Epoch 47\n",
      "└ @ Main /home/russell/.julia/packages/Flux/qXNjB/src/optimise/train.jl:105\n"
     ]
    },
    {
     "name": "stdout",
     "output_type": "stream",
     "text": [
      "loss(tx, ty) = 3.5225521596144238e6 (tracked)\n",
      "loss(tx, ty) = 3.5225521596144238e6 (tracked)\n",
      "loss(tx, ty) = 3.5225521596144238e6 (tracked)\n"
     ]
    },
    {
     "name": "stderr",
     "output_type": "stream",
     "text": [
      "┌ Info: Epoch 48\n",
      "└ @ Main /home/russell/.julia/packages/Flux/qXNjB/src/optimise/train.jl:105\n"
     ]
    },
    {
     "name": "stdout",
     "output_type": "stream",
     "text": [
      "loss(tx, ty) = 3.5225521596144238e6 (tracked)\n"
     ]
    },
    {
     "name": "stderr",
     "output_type": "stream",
     "text": [
      "┌ Info: Epoch 49\n",
      "└ @ Main /home/russell/.julia/packages/Flux/qXNjB/src/optimise/train.jl:105\n"
     ]
    },
    {
     "name": "stdout",
     "output_type": "stream",
     "text": [
      "loss(tx, ty) = 3.5225521596144238e6 (tracked)\n",
      "loss(tx, ty) = 3.5225521596144238e6 (tracked)\n",
      "loss(tx, ty) = 3.5225521596144238e6 (tracked)\n"
     ]
    },
    {
     "name": "stderr",
     "output_type": "stream",
     "text": [
      "┌ Info: Epoch 50\n",
      "└ @ Main /home/russell/.julia/packages/Flux/qXNjB/src/optimise/train.jl:105\n"
     ]
    },
    {
     "name": "stdout",
     "output_type": "stream",
     "text": [
      "loss(tx, ty) = 3.5225521596144238e6 (tracked)\n",
      "loss(tx, ty) = 3.5225521596144238e6 (tracked)\n"
     ]
    },
    {
     "name": "stderr",
     "output_type": "stream",
     "text": [
      "┌ Info: Epoch 51\n",
      "└ @ Main /home/russell/.julia/packages/Flux/qXNjB/src/optimise/train.jl:105\n"
     ]
    },
    {
     "name": "stdout",
     "output_type": "stream",
     "text": [
      "loss(tx, ty) = 3.5225521596144238e6 (tracked)\n"
     ]
    },
    {
     "name": "stderr",
     "output_type": "stream",
     "text": [
      "┌ Info: Epoch 52\n",
      "└ @ Main /home/russell/.julia/packages/Flux/qXNjB/src/optimise/train.jl:105\n"
     ]
    },
    {
     "name": "stdout",
     "output_type": "stream",
     "text": [
      "loss(tx, ty) = 3.5225521596144238e6 (tracked)\n",
      "loss(tx, ty) = 3.5225521596144238e6 (tracked)\n",
      "loss(tx, ty) = 3.5225521596144238e6 (tracked)\n"
     ]
    },
    {
     "name": "stderr",
     "output_type": "stream",
     "text": [
      "┌ Info: Epoch 53\n",
      "└ @ Main /home/russell/.julia/packages/Flux/qXNjB/src/optimise/train.jl:105\n"
     ]
    },
    {
     "name": "stdout",
     "output_type": "stream",
     "text": [
      "loss(tx, ty) = 3.5225521596144238e6 (tracked)\n"
     ]
    },
    {
     "name": "stderr",
     "output_type": "stream",
     "text": [
      "┌ Info: Epoch 54\n",
      "└ @ Main /home/russell/.julia/packages/Flux/qXNjB/src/optimise/train.jl:105\n"
     ]
    },
    {
     "name": "stdout",
     "output_type": "stream",
     "text": [
      "loss(tx, ty) = 3.5225521596144238e6 (tracked)\n",
      "loss(tx, ty) = 3.5225521596144238e6 (tracked)\n",
      "loss(tx, ty) = 3.5225521596144238e6 (tracked)\n"
     ]
    },
    {
     "name": "stderr",
     "output_type": "stream",
     "text": [
      "┌ Info: Epoch 55\n",
      "└ @ Main /home/russell/.julia/packages/Flux/qXNjB/src/optimise/train.jl:105\n"
     ]
    },
    {
     "name": "stdout",
     "output_type": "stream",
     "text": [
      "loss(tx, ty) = 3.5225521596144238e6 (tracked)\n"
     ]
    },
    {
     "name": "stderr",
     "output_type": "stream",
     "text": [
      "┌ Info: Epoch 56\n",
      "└ @ Main /home/russell/.julia/packages/Flux/qXNjB/src/optimise/train.jl:105\n"
     ]
    },
    {
     "name": "stdout",
     "output_type": "stream",
     "text": [
      "loss(tx, ty) = 3.5225521596144238e6 (tracked)\n",
      "loss(tx, ty) = 3.5225521596144238e6 (tracked)\n"
     ]
    },
    {
     "name": "stderr",
     "output_type": "stream",
     "text": [
      "┌ Info: Epoch 57\n",
      "└ @ Main /home/russell/.julia/packages/Flux/qXNjB/src/optimise/train.jl:105\n"
     ]
    },
    {
     "name": "stdout",
     "output_type": "stream",
     "text": [
      "loss(tx, ty) = 3.5225521596144238e6 (tracked)\n",
      "loss(tx, ty) = 3.5225521596144238e6 (tracked)\n",
      "loss(tx, ty) = 3.5225521596144238e6 (tracked)\n"
     ]
    },
    {
     "name": "stderr",
     "output_type": "stream",
     "text": [
      "┌ Info: Epoch 58\n",
      "└ @ Main /home/russell/.julia/packages/Flux/qXNjB/src/optimise/train.jl:105\n"
     ]
    },
    {
     "name": "stdout",
     "output_type": "stream",
     "text": [
      "loss(tx, ty) = 3.5225521596144238e6 (tracked)\n"
     ]
    },
    {
     "name": "stderr",
     "output_type": "stream",
     "text": [
      "┌ Info: Epoch 59\n",
      "└ @ Main /home/russell/.julia/packages/Flux/qXNjB/src/optimise/train.jl:105\n"
     ]
    },
    {
     "name": "stdout",
     "output_type": "stream",
     "text": [
      "loss(tx, ty) = 3.5225521596144238e6 (tracked)\n",
      "loss(tx, ty) = 3.5225521596144238e6 (tracked)\n"
     ]
    },
    {
     "name": "stderr",
     "output_type": "stream",
     "text": [
      "┌ Info: Epoch 60\n",
      "└ @ Main /home/russell/.julia/packages/Flux/qXNjB/src/optimise/train.jl:105\n"
     ]
    },
    {
     "name": "stdout",
     "output_type": "stream",
     "text": [
      "loss(tx, ty) = 3.5225521596144238e6 (tracked)\n",
      "loss(tx, ty) = 3.5225521596144238e6 (tracked)\n",
      "loss(tx, ty) = 3.5225521596144238e6 (tracked)\n"
     ]
    },
    {
     "name": "stderr",
     "output_type": "stream",
     "text": [
      "┌ Info: Epoch 61\n",
      "└ @ Main /home/russell/.julia/packages/Flux/qXNjB/src/optimise/train.jl:105\n"
     ]
    },
    {
     "name": "stdout",
     "output_type": "stream",
     "text": [
      "loss(tx, ty) = 3.5225521596144238e6 (tracked)\n"
     ]
    },
    {
     "name": "stderr",
     "output_type": "stream",
     "text": [
      "┌ Info: Epoch 62\n",
      "└ @ Main /home/russell/.julia/packages/Flux/qXNjB/src/optimise/train.jl:105\n"
     ]
    },
    {
     "name": "stdout",
     "output_type": "stream",
     "text": [
      "loss(tx, ty) = 3.5225521596144238e6 (tracked)\n",
      "loss(tx, ty) = 3.5225521596144238e6 (tracked)\n",
      "loss(tx, ty) = 3.5225521596144238e6 (tracked)\n"
     ]
    },
    {
     "name": "stderr",
     "output_type": "stream",
     "text": [
      "┌ Info: Epoch 63\n",
      "└ @ Main /home/russell/.julia/packages/Flux/qXNjB/src/optimise/train.jl:105\n"
     ]
    },
    {
     "name": "stdout",
     "output_type": "stream",
     "text": [
      "loss(tx, ty) = 3.5225521596144238e6 (tracked)\n"
     ]
    },
    {
     "name": "stderr",
     "output_type": "stream",
     "text": [
      "┌ Info: Epoch 64\n",
      "└ @ Main /home/russell/.julia/packages/Flux/qXNjB/src/optimise/train.jl:105\n"
     ]
    },
    {
     "name": "stdout",
     "output_type": "stream",
     "text": [
      "loss(tx, ty) = 3.5225521596144238e6 (tracked)\n",
      "loss(tx, ty) = 3.5225521596144238e6 (tracked)\n",
      "loss(tx, ty) = 3.5225521596144238e6 (tracked)\n"
     ]
    },
    {
     "name": "stderr",
     "output_type": "stream",
     "text": [
      "┌ Info: Epoch 65\n",
      "└ @ Main /home/russell/.julia/packages/Flux/qXNjB/src/optimise/train.jl:105\n"
     ]
    },
    {
     "name": "stdout",
     "output_type": "stream",
     "text": [
      "loss(tx, ty) = 3.5225521596144238e6 (tracked)\n",
      "loss(tx, ty) = 3.5225521596144238e6 (tracked)\n"
     ]
    },
    {
     "name": "stderr",
     "output_type": "stream",
     "text": [
      "┌ Info: Epoch 66\n",
      "└ @ Main /home/russell/.julia/packages/Flux/qXNjB/src/optimise/train.jl:105\n"
     ]
    },
    {
     "name": "stdout",
     "output_type": "stream",
     "text": [
      "loss(tx, ty) = 3.5225521596144238e6 (tracked)\n"
     ]
    },
    {
     "name": "stderr",
     "output_type": "stream",
     "text": [
      "┌ Info: Epoch 67\n",
      "└ @ Main /home/russell/.julia/packages/Flux/qXNjB/src/optimise/train.jl:105\n"
     ]
    },
    {
     "name": "stdout",
     "output_type": "stream",
     "text": [
      "loss(tx, ty) = 3.5225521596144238e6 (tracked)\n",
      "loss(tx, ty) = 3.5225521596144238e6 (tracked)\n",
      "loss(tx, ty) = 3.5225521596144238e6 (tracked)\n"
     ]
    },
    {
     "name": "stderr",
     "output_type": "stream",
     "text": [
      "┌ Info: Epoch 68\n",
      "└ @ Main /home/russell/.julia/packages/Flux/qXNjB/src/optimise/train.jl:105\n"
     ]
    },
    {
     "name": "stdout",
     "output_type": "stream",
     "text": [
      "loss(tx, ty) = 3.5225521596144238e6 (tracked)\n",
      "loss(tx, ty) = 3.5225521596144238e6 (tracked)\n"
     ]
    },
    {
     "name": "stderr",
     "output_type": "stream",
     "text": [
      "┌ Info: Epoch 69\n",
      "└ @ Main /home/russell/.julia/packages/Flux/qXNjB/src/optimise/train.jl:105\n"
     ]
    },
    {
     "name": "stdout",
     "output_type": "stream",
     "text": [
      "loss(tx, ty) = 3.5225521596144238e6 (tracked)\n"
     ]
    },
    {
     "name": "stderr",
     "output_type": "stream",
     "text": [
      "┌ Info: Epoch 70\n",
      "└ @ Main /home/russell/.julia/packages/Flux/qXNjB/src/optimise/train.jl:105\n"
     ]
    },
    {
     "name": "stdout",
     "output_type": "stream",
     "text": [
      "loss(tx, ty) = 3.5225521596144238e6 (tracked)\n",
      "loss(tx, ty) = 3.5225521596144238e6 (tracked)\n"
     ]
    },
    {
     "name": "stderr",
     "output_type": "stream",
     "text": [
      "┌ Info: Epoch 71\n",
      "└ @ Main /home/russell/.julia/packages/Flux/qXNjB/src/optimise/train.jl:105\n"
     ]
    },
    {
     "name": "stdout",
     "output_type": "stream",
     "text": [
      "loss(tx, ty) = 3.5225521596144238e6 (tracked)\n",
      "loss(tx, ty) = 3.5225521596144238e6 (tracked)\n"
     ]
    },
    {
     "name": "stderr",
     "output_type": "stream",
     "text": [
      "┌ Info: Epoch 72\n",
      "└ @ Main /home/russell/.julia/packages/Flux/qXNjB/src/optimise/train.jl:105\n"
     ]
    },
    {
     "name": "stdout",
     "output_type": "stream",
     "text": [
      "loss(tx, ty) = 3.5225521596144238e6 (tracked)\n",
      "loss(tx, ty) = 3.5225521596144238e6 (tracked)\n",
      "loss(tx, ty) = 3.5225521596144238e6 (tracked)\n"
     ]
    },
    {
     "name": "stderr",
     "output_type": "stream",
     "text": [
      "┌ Info: Epoch 73\n",
      "└ @ Main /home/russell/.julia/packages/Flux/qXNjB/src/optimise/train.jl:105\n"
     ]
    },
    {
     "name": "stdout",
     "output_type": "stream",
     "text": [
      "loss(tx, ty) = 3.5225521596144238e6 (tracked)\n"
     ]
    },
    {
     "name": "stderr",
     "output_type": "stream",
     "text": [
      "┌ Info: Epoch 74\n",
      "└ @ Main /home/russell/.julia/packages/Flux/qXNjB/src/optimise/train.jl:105\n"
     ]
    },
    {
     "name": "stdout",
     "output_type": "stream",
     "text": [
      "loss(tx, ty) = 3.5225521596144238e6 (tracked)\n",
      "loss(tx, ty) = 3.5225521596144238e6 (tracked)\n",
      "loss(tx, ty) = 3.5225521596144238e6 (tracked)\n"
     ]
    },
    {
     "name": "stderr",
     "output_type": "stream",
     "text": [
      "┌ Info: Epoch 75\n",
      "└ @ Main /home/russell/.julia/packages/Flux/qXNjB/src/optimise/train.jl:105\n"
     ]
    },
    {
     "name": "stdout",
     "output_type": "stream",
     "text": [
      "loss(tx, ty) = 3.5225521596144238e6 (tracked)\n"
     ]
    },
    {
     "name": "stderr",
     "output_type": "stream",
     "text": [
      "┌ Info: Epoch 76\n",
      "└ @ Main /home/russell/.julia/packages/Flux/qXNjB/src/optimise/train.jl:105\n"
     ]
    },
    {
     "name": "stdout",
     "output_type": "stream",
     "text": [
      "loss(tx, ty) = 3.5225521596144238e6 (tracked)\n",
      "loss(tx, ty) = 3.5225521596144238e6 (tracked)\n",
      "loss(tx, ty) = 3.5225521596144238e6 (tracked)\n"
     ]
    },
    {
     "name": "stderr",
     "output_type": "stream",
     "text": [
      "┌ Info: Epoch 77\n",
      "└ @ Main /home/russell/.julia/packages/Flux/qXNjB/src/optimise/train.jl:105\n"
     ]
    },
    {
     "name": "stdout",
     "output_type": "stream",
     "text": [
      "loss(tx, ty) = 3.5225521596144238e6 (tracked)\n"
     ]
    },
    {
     "name": "stderr",
     "output_type": "stream",
     "text": [
      "┌ Info: Epoch 78\n",
      "└ @ Main /home/russell/.julia/packages/Flux/qXNjB/src/optimise/train.jl:105\n"
     ]
    },
    {
     "name": "stdout",
     "output_type": "stream",
     "text": [
      "loss(tx, ty) = 3.5225521596144238e6 (tracked)\n",
      "loss(tx, ty) = 3.5225521596144238e6 (tracked)\n",
      "loss(tx, ty) = 3.5225521596144238e6 (tracked)\n"
     ]
    },
    {
     "name": "stderr",
     "output_type": "stream",
     "text": [
      "┌ Info: Epoch 79\n",
      "└ @ Main /home/russell/.julia/packages/Flux/qXNjB/src/optimise/train.jl:105\n"
     ]
    },
    {
     "name": "stdout",
     "output_type": "stream",
     "text": [
      "loss(tx, ty) = 3.5225521596144238e6 (tracked)\n",
      "loss(tx, ty) = 3.5225521596144238e6 (tracked)\n"
     ]
    },
    {
     "name": "stderr",
     "output_type": "stream",
     "text": [
      "┌ Info: Epoch 80\n",
      "└ @ Main /home/russell/.julia/packages/Flux/qXNjB/src/optimise/train.jl:105\n"
     ]
    },
    {
     "name": "stdout",
     "output_type": "stream",
     "text": [
      "loss(tx, ty) = 3.5225521596144238e6 (tracked)\n",
      "loss(tx, ty) = 3.5225521596144238e6 (tracked)\n"
     ]
    },
    {
     "name": "stderr",
     "output_type": "stream",
     "text": [
      "┌ Info: Epoch 81\n",
      "└ @ Main /home/russell/.julia/packages/Flux/qXNjB/src/optimise/train.jl:105\n"
     ]
    },
    {
     "name": "stdout",
     "output_type": "stream",
     "text": [
      "loss(tx, ty) = 3.5225521596144238e6 (tracked)\n",
      "loss(tx, ty) = 3.5225521596144238e6 (tracked)\n"
     ]
    },
    {
     "name": "stderr",
     "output_type": "stream",
     "text": [
      "┌ Info: Epoch 82\n",
      "└ @ Main /home/russell/.julia/packages/Flux/qXNjB/src/optimise/train.jl:105\n"
     ]
    },
    {
     "name": "stdout",
     "output_type": "stream",
     "text": [
      "loss(tx, ty) = 3.5225521596144238e6 (tracked)\n"
     ]
    },
    {
     "name": "stderr",
     "output_type": "stream",
     "text": [
      "┌ Info: Epoch 83\n",
      "└ @ Main /home/russell/.julia/packages/Flux/qXNjB/src/optimise/train.jl:105\n"
     ]
    },
    {
     "name": "stdout",
     "output_type": "stream",
     "text": [
      "loss(tx, ty) = 3.5225521596144238e6 (tracked)\n",
      "loss(tx, ty) = 3.5225521596144238e6 (tracked)\n",
      "loss(tx, ty) = 3.5225521596144238e6 (tracked)\n"
     ]
    },
    {
     "name": "stderr",
     "output_type": "stream",
     "text": [
      "┌ Info: Epoch 84\n",
      "└ @ Main /home/russell/.julia/packages/Flux/qXNjB/src/optimise/train.jl:105\n"
     ]
    },
    {
     "name": "stdout",
     "output_type": "stream",
     "text": [
      "loss(tx, ty) = 3.5225521596144238e6 (tracked)\n"
     ]
    },
    {
     "name": "stderr",
     "output_type": "stream",
     "text": [
      "┌ Info: Epoch 85\n",
      "└ @ Main /home/russell/.julia/packages/Flux/qXNjB/src/optimise/train.jl:105\n"
     ]
    },
    {
     "name": "stdout",
     "output_type": "stream",
     "text": [
      "loss(tx, ty) = 3.5225521596144238e6 (tracked)\n",
      "loss(tx, ty) = 3.5225521596144238e6 (tracked)\n"
     ]
    },
    {
     "name": "stderr",
     "output_type": "stream",
     "text": [
      "┌ Info: Epoch 86\n",
      "└ @ Main /home/russell/.julia/packages/Flux/qXNjB/src/optimise/train.jl:105\n"
     ]
    },
    {
     "name": "stdout",
     "output_type": "stream",
     "text": [
      "loss(tx, ty) = 3.5225521596144238e6 (tracked)\n",
      "loss(tx, ty) = 3.5225521596144238e6 (tracked)\n"
     ]
    },
    {
     "name": "stderr",
     "output_type": "stream",
     "text": [
      "┌ Info: Epoch 87\n",
      "└ @ Main /home/russell/.julia/packages/Flux/qXNjB/src/optimise/train.jl:105\n"
     ]
    },
    {
     "name": "stdout",
     "output_type": "stream",
     "text": [
      "loss(tx, ty) = 3.5225521596144238e6 (tracked)\n",
      "loss(tx, ty) = 3.5225521596144238e6 (tracked)\n"
     ]
    },
    {
     "name": "stderr",
     "output_type": "stream",
     "text": [
      "┌ Info: Epoch 88\n",
      "└ @ Main /home/russell/.julia/packages/Flux/qXNjB/src/optimise/train.jl:105\n"
     ]
    },
    {
     "name": "stdout",
     "output_type": "stream",
     "text": [
      "loss(tx, ty) = 3.5225521596144238e6 (tracked)\n",
      "loss(tx, ty) = 3.5225521596144238e6 (tracked)\n",
      "loss(tx, ty) = 3.5225521596144238e6 (tracked)\n"
     ]
    },
    {
     "name": "stderr",
     "output_type": "stream",
     "text": [
      "┌ Info: Epoch 89\n",
      "└ @ Main /home/russell/.julia/packages/Flux/qXNjB/src/optimise/train.jl:105\n"
     ]
    },
    {
     "name": "stdout",
     "output_type": "stream",
     "text": [
      "loss(tx, ty) = 3.5225521596144238e6 (tracked)\n"
     ]
    },
    {
     "name": "stderr",
     "output_type": "stream",
     "text": [
      "┌ Info: Epoch 90\n",
      "└ @ Main /home/russell/.julia/packages/Flux/qXNjB/src/optimise/train.jl:105\n"
     ]
    },
    {
     "name": "stdout",
     "output_type": "stream",
     "text": [
      "loss(tx, ty) = 3.5225521596144238e6 (tracked)\n",
      "loss(tx, ty) = 3.5225521596144238e6 (tracked)\n",
      "loss(tx, ty) = 3.5225521596144238e6 (tracked)\n"
     ]
    },
    {
     "name": "stderr",
     "output_type": "stream",
     "text": [
      "┌ Info: Epoch 91\n",
      "└ @ Main /home/russell/.julia/packages/Flux/qXNjB/src/optimise/train.jl:105\n"
     ]
    },
    {
     "name": "stdout",
     "output_type": "stream",
     "text": [
      "loss(tx, ty) = 3.5225521596144238e6 (tracked)\n",
      "loss(tx, ty) = 3.5225521596144238e6 (tracked)\n"
     ]
    },
    {
     "name": "stderr",
     "output_type": "stream",
     "text": [
      "┌ Info: Epoch 92\n",
      "└ @ Main /home/russell/.julia/packages/Flux/qXNjB/src/optimise/train.jl:105\n"
     ]
    },
    {
     "name": "stdout",
     "output_type": "stream",
     "text": [
      "loss(tx, ty) = 3.5225521596144238e6 (tracked)\n"
     ]
    },
    {
     "name": "stderr",
     "output_type": "stream",
     "text": [
      "┌ Info: Epoch 93\n",
      "└ @ Main /home/russell/.julia/packages/Flux/qXNjB/src/optimise/train.jl:105\n"
     ]
    },
    {
     "name": "stdout",
     "output_type": "stream",
     "text": [
      "loss(tx, ty) = 3.5225521596144238e6 (tracked)\n",
      "loss(tx, ty) = 3.5225521596144238e6 (tracked)\n",
      "loss(tx, ty) = 3.5225521596144238e6 (tracked)\n"
     ]
    },
    {
     "name": "stderr",
     "output_type": "stream",
     "text": [
      "┌ Info: Epoch 94\n",
      "└ @ Main /home/russell/.julia/packages/Flux/qXNjB/src/optimise/train.jl:105\n"
     ]
    },
    {
     "name": "stdout",
     "output_type": "stream",
     "text": [
      "loss(tx, ty) = 3.5225521596144238e6 (tracked)\n",
      "loss(tx, ty) = 3.5225521596144238e6 (tracked)\n"
     ]
    },
    {
     "name": "stderr",
     "output_type": "stream",
     "text": [
      "┌ Info: Epoch 95\n",
      "└ @ Main /home/russell/.julia/packages/Flux/qXNjB/src/optimise/train.jl:105\n"
     ]
    },
    {
     "name": "stdout",
     "output_type": "stream",
     "text": [
      "loss(tx, ty) = 3.5225521596144238e6 (tracked)\n"
     ]
    },
    {
     "name": "stderr",
     "output_type": "stream",
     "text": [
      "┌ Info: Epoch 96\n",
      "└ @ Main /home/russell/.julia/packages/Flux/qXNjB/src/optimise/train.jl:105\n"
     ]
    },
    {
     "name": "stdout",
     "output_type": "stream",
     "text": [
      "loss(tx, ty) = 3.5225521596144238e6 (tracked)\n",
      "loss(tx, ty) = 3.5225521596144238e6 (tracked)\n"
     ]
    },
    {
     "name": "stderr",
     "output_type": "stream",
     "text": [
      "┌ Info: Epoch 97\n",
      "└ @ Main /home/russell/.julia/packages/Flux/qXNjB/src/optimise/train.jl:105\n"
     ]
    },
    {
     "name": "stdout",
     "output_type": "stream",
     "text": [
      "loss(tx, ty) = 3.5225521596144238e6 (tracked)\n",
      "loss(tx, ty) = 3.5225521596144238e6 (tracked)\n"
     ]
    },
    {
     "name": "stderr",
     "output_type": "stream",
     "text": [
      "┌ Info: Epoch 98\n",
      "└ @ Main /home/russell/.julia/packages/Flux/qXNjB/src/optimise/train.jl:105\n"
     ]
    },
    {
     "name": "stdout",
     "output_type": "stream",
     "text": [
      "loss(tx, ty) = 3.5225521596144238e6 (tracked)\n",
      "loss(tx, ty) = 3.5225521596144238e6 (tracked)\n",
      "loss(tx, ty) = 3.5225521596144238e6 (tracked)\n"
     ]
    },
    {
     "name": "stderr",
     "output_type": "stream",
     "text": [
      "┌ Info: Epoch 99\n",
      "└ @ Main /home/russell/.julia/packages/Flux/qXNjB/src/optimise/train.jl:105\n"
     ]
    },
    {
     "name": "stdout",
     "output_type": "stream",
     "text": [
      "loss(tx, ty) = 3.5225521596144238e6 (tracked)\n"
     ]
    },
    {
     "name": "stderr",
     "output_type": "stream",
     "text": [
      "┌ Info: Epoch 100\n",
      "└ @ Main /home/russell/.julia/packages/Flux/qXNjB/src/optimise/train.jl:105\n"
     ]
    },
    {
     "name": "stdout",
     "output_type": "stream",
     "text": [
      "loss(tx, ty) = 3.5225521596144238e6 (tracked)\n",
      "loss(tx, ty) = 3.5225521596144238e6 (tracked)\n"
     ]
    }
   ],
   "source": [
    "using Flux\n",
    "using Flux.Tracker, Statistics, DelimitedFiles\n",
    "using Flux.Tracker: Params, gradient, update!\n",
    "using Flux: gpu\n",
    "using Flux: onehot, chunk, batchseq, throttle, crossentropy\n",
    "using Flux: @epochs\n",
    "\n",
    "# This replicates the housing data example from the Knet.jl readme. Although we\n",
    "# could have reused more of Flux (see the mnist example), the library's\n",
    "# abstractions are very lightweight and don't force you into any particular\n",
    "# strategy.\n",
    "# https://github.com/FluxML/model-zoo/blob/master/other/housing/housing.jl\n",
    "cd(@__DIR__)\n",
    "\n",
    "isfile(\"housing.data\") ||\n",
    "  download(\"https://raw.githubusercontent.com/MikeInnes/notebooks/master/housing.data\",\n",
    "           \"housing.data\")\n",
    "\n",
    "rawdata = readdlm(\"housing.data\")'\n",
    "\n",
    "\n",
    "using CSV, DataFrames\n",
    "file = \"BostonHousing.csv\"\n",
    "\n",
    "df = DataFrame(CSV.File(file)) #|> DataFrame!\n",
    "#df[:medv]\n",
    "#\n",
    "lstat = df[:lstat]\n",
    "medv = df[:medv]\n",
    "\n",
    "print(names(df))\n",
    "# The last feature is our target -- the price of the house.\n",
    "split_ratio = 0.5 # For the train test split\n",
    "\n",
    "x = rawdata[12:12,:] #|> gpu\n",
    "y = rawdata[14:14,:] #|> gpu\n",
    "Xs = x\n",
    "Ys = y\n",
    "# Normalise the data\n",
    "x = (x .- mean(x, dims = 2)) ./ std(x, dims = 2)\n",
    "\n",
    "# Split into train and test sets\n",
    "split_index = floor(Int,size(x,2)*split_ratio)\n",
    "x_train = x[:,1:split_index]\n",
    "y_train = y[:,1:split_index]\n",
    "x_test = x[:,split_index+1:size(x,2)]\n",
    "y_test = y[:,split_index+1:size(x,2)]\n",
    "\n",
    "# The model\n",
    "W = param(randn(1,1)/10) #|> gpu\n",
    "b = param([0.]) #|> gpu\n",
    "\n",
    "predict(x) = W*x .+ b\n",
    "meansquarederror(ŷ, y) = sum((ŷ .- y).^2)/size(y, 2)\n",
    "loss(x, y) = meansquarederror(predict(x), y)\n",
    "\n",
    "η = 0.1\n",
    "θ = Params([W, b])\n",
    "\n",
    "for i = 1:12\n",
    "  g = gradient(() -> loss(x_train, y_train), θ)\n",
    "  for x in θ\n",
    "    update!(x, -g[x]*η)\n",
    "  end\n",
    "  @show loss(x_train, y_train)\n",
    "end\n",
    "\n",
    "# Predict the RMSE on the test set\n",
    "err = meansquarederror(predict(x_test),y_test)\n",
    "println(err)\n",
    "\n",
    "# https://github.com/FluxML/model-zoo/blob/master/text/char-rnn/char-rnn.jl\n",
    "m = Chain(\n",
    "  LSTM(1, 505),\n",
    "  LSTM(505, 505),\n",
    "  Dense(505, 1),\n",
    "  softmax)\n",
    "\n",
    "\n",
    "#modelReg = Chain(Dense(1, 505))\n",
    "#loss(x, y) = Flux.mse(modelReg(x), y)\n",
    "#opt = SGD(Flux.params(modelReg), 0.1)\n",
    "#@epochs 100 Flux.train!(loss, regData, opt)\n",
    "\n",
    "#m = gpu(m)\n",
    "\n",
    "#function loss(xs, ys)#\n",
    "#  l = sum(crossentropy.(m.(gpu.(xs)), gpu.(ys)))\n",
    "#  Flux.truncate!(m)\n",
    "#  return l\n",
    "#end\n",
    "opt = SGD(params(m),0.1)\n",
    "#\n",
    "#opt = SGD()\n",
    "#opt() # updates the weights\n",
    "\n",
    "tx, ty = (Xs[5], Ys[5])\n",
    "evalcb = () -> @show loss(tx, ty)\n",
    "@epochs 100 Flux.train!(loss, zip(Xs, Ys), opt)\n",
    "opt = ADAM(0.01)\n",
    "@epochs 100 Flux.train!(loss, params(m), zip(Xs, Ys), opt, cb = throttle(evalcb, 30))\n"
   ]
  },
  {
   "cell_type": "code",
   "execution_count": null,
   "metadata": {},
   "outputs": [],
   "source": []
  }
 ],
 "metadata": {
  "kernelspec": {
   "display_name": "Julia 1.1.0",
   "language": "julia",
   "name": "julia-1.1"
  },
  "language_info": {
   "file_extension": ".jl",
   "mimetype": "application/julia",
   "name": "julia",
   "version": "1.1.0"
  }
 },
 "nbformat": 4,
 "nbformat_minor": 2
}
