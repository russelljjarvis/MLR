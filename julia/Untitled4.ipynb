{
 "cells": [
  {
   "cell_type": "markdown",
   "metadata": {},
   "source": [
    "# Progress Report\n",
    "# Statistical Machine Learning\n",
    "\n",
    "\n",
    "What I have done:\n",
    "\n",
    "Started Final Project\n",
    "\n",
    "Which is PCA and random tree regression on realistic neural models.\n",
    "\n",
    "Idea is simple:\n",
    "Models that are resistant to being classified as such, given categories: \n",
    "\n",
    "# Python, dask implementation.\n",
    "* Models versus Data, are more successful as models.\n",
    "\n",
    "\n",
    "Attempted stochastic gradient descent regression to optimize neural models but found it less useful than multi-objective optimization."
   ]
  },
  {
   "cell_type": "code",
   "execution_count": null,
   "metadata": {},
   "outputs": [],
   "source": []
  }
 ],
 "metadata": {
  "kernelspec": {
   "display_name": "Julia 1.1.0",
   "language": "julia",
   "name": "julia-1.1"
  },
  "language_info": {
   "file_extension": ".jl",
   "mimetype": "application/julia",
   "name": "julia",
   "version": "1.1.0"
  }
 },
 "nbformat": 4,
 "nbformat_minor": 4
}
