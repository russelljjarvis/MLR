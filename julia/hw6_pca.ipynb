{
 "cells": [
  {
   "cell_type": "markdown",
   "metadata": {},
   "source": [
    "* In the cell below, I execute R code in Julia, by casting the R code to a Julia multiline string:"
   ]
  },
  {
   "cell_type": "code",
   "execution_count": 1,
   "metadata": {},
   "outputs": [
    {
     "name": "stderr",
     "output_type": "stream",
     "text": [
      "┌ Info: Recompiling stale cache file /home/russell/.julia/compiled/v1.1/RCall/8GFyb.ji for RCall [6f49c342-dc21-5d91-9882-a32aef131414]\n",
      "└ @ Base loading.jl:1184\n",
      "┌ Warning: RCall.jl: Loading required package: Matrix\n",
      "│ Loading required package: foreach\n",
      "│ Loaded glmnet 2.0-18\n",
      "│ \n",
      "└ @ RCall /home/russell/.julia/packages/RCall/g7dhB/src/io.jl:113\n"
     ]
    },
    {
     "data": {
      "text/plain": [
       "RObject{StrSxp}\n",
       "     price            trim       isOneOwner    mileage            year     \n",
       " Min.   :  599   550    :11825   f:16594    Min.   :     8   Min.   :1994  \n",
       " 1st Qu.:13495   430    : 2787   t: 3469    1st Qu.: 39888   1st Qu.:2004  \n",
       " Median :29454   500    : 2661              Median : 67187   Median :2007  \n",
       " Mean   :30747   63 AMG :  599              Mean   : 73114   Mean   :2007  \n",
       " 3rd Qu.:43995   600    :  572              3rd Qu.: 98213   3rd Qu.:2010  \n",
       " Max.   :79999   55 AMG :  356              Max.   :488525   Max.   :2014  \n",
       "                 (Other): 1263                                             \n",
       "    color       displacement         fuel           region    \n",
       " Black :8194   Min.   :3.000   Diesel  :  211   SoA    :6492  \n",
       " Blue  : 914   1st Qu.:4.600   Gasoline:19632   Pac    :3252  \n",
       " Gray  :2168   Median :5.500   Hybrid  :  220   Mid    :2671  \n",
       " other : 961   Mean   :5.059                    WSC    :2493  \n",
       " Silver:4353   3rd Qu.:5.500                    ENC    :1984  \n",
       " unsp  : 832   Max.   :6.300                    Mtn    :1006  \n",
       " White :2641                                    (Other):2165  \n",
       "        soundSystem     wheelType    \n",
       " Bang Olufsen : 104   Alloy  :11111  \n",
       " Bose         :1261   other  :  120  \n",
       " Harman Kardon:4278   Premium:  428  \n",
       " Premium      :5320   unsp   : 8404  \n",
       " unsp         :9100                  \n",
       "                                     \n",
       "                                     \n"
      ]
     },
     "execution_count": 1,
     "metadata": {},
     "output_type": "execute_result"
    }
   ],
   "source": [
    "using RCall\n",
    "R\"\"\"\n",
    "library(\"compiler\")\n",
    "library(glmnet)\n",
    "\n",
    "cmpfun(coef)\n",
    "cmpfun(plot)\n",
    "\n",
    "#cd = read.csv(\"usedcars.csv\")\n",
    "cd = read.csv(\"http://www.rob-mcculloch.org/data/usedcars.csv\")\n",
    "if(!file.exists(\"usedcars.csv\")){\n",
    "  res <- tryCatch(download.file(\"http://www.rob-mcculloch.org/data/usedcars.csv\",\n",
    "                            destfile=\"./usedcars.csv\",\n",
    "                            method=\"auto\"),\n",
    "              error=function(e) 1)\n",
    "  cd = read.csv(\"usedcars.csv\")\n",
    "  if(dat!=1){ cd = read.csv(\"usedcars.csv\") }\n",
    "}\n",
    "dim(cd)\n",
    "## [1] 1000\n",
    "#7\n",
    "summary(cd)\n",
    "\"\"\""
   ]
  },
  {
   "cell_type": "code",
   "execution_count": 2,
   "metadata": {},
   "outputs": [
    {
     "data": {
      "image/png": "[encoded data removed]"
     },
     "metadata": {},
     "output_type": "display_data"
    },
    {
     "data": {
      "text/plain": [
       "RObject{NilSxp}\n",
       "NULL\n"
      ]
     },
     "execution_count": 2,
     "metadata": {},
     "output_type": "execute_result"
    }
   ],
   "source": [
    "R\"\"\"\n",
    "tdf = data.frame(x1 = as.factor(rep(1:3,3)),x2=rnorm(9))\n",
    "X = model.matrix(~.,tdf)\n",
    "#attr(,\"assign\")\n",
    "#attr(,\"contrasts\")\n",
    "#z`attr(,\"contrasts\")$x1\n",
    "x = model.matrix(price~.,cd)[,-1] #drop the one vector\n",
    "dim(x)\n",
    "colnames(x)\n",
    "head(x)\n",
    "lm1 = lm(price~.,cd)\n",
    "lm2 = lm(price~.,data.frame(price=cd$price,x))\n",
    "summary(lm1$fitted-lm2$fitted)\n",
    "cvglcd = cv.glmnet(x,cd$price,family=\"gaussian\")\n",
    "glcd = cvglcd$glmnet.fit\n",
    "plot(cvglcd) #see cross validation\n",
    "\"\"\""
   ]
  },
  {
   "cell_type": "code",
   "execution_count": 3,
   "metadata": {},
   "outputs": [
    {
     "name": "stderr",
     "output_type": "stream",
     "text": [
      "┌ Info: Recompiling stale cache file /home/russell/.julia/compiled/v1.1/GLMNet/2sTil.ji for GLMNet [8d5ece8b-de18-5317-b113-243142960cc6]\n",
      "└ @ Base loading.jl:1184\n",
      "┌ Info: Recompiling stale cache file /home/russell/.julia/compiled/v1.1/GLM/6OREG.ji for GLM [38e38edf-8417-5370-95a0-9cbb8c7f171a]\n",
      "└ @ Base loading.jl:1184\n"
     ]
    }
   ],
   "source": [
    "try\n",
    "    using GLMNet\n",
    "    using GLM\n",
    "\n",
    "catch\n",
    "    using Pkg\n",
    "    Pkg.add(\"GLMNet\")\n",
    "    using GLMNet\n",
    "    Pkg.add(\"GLM\")\n",
    "    using GLM\n",
    "    Pkg.update() #followed by a Pkg.add(\"Gadfly\")\n",
    "\n",
    "\n",
    "end"
   ]
  },
  {
   "cell_type": "markdown",
   "metadata": {},
   "source": [
    "### In the code below\n",
    "* I move data-types/variables from the R name space to the Julia name space"
   ]
  },
  {
   "cell_type": "code",
   "execution_count": 4,
   "metadata": {},
   "outputs": [],
   "source": [
    "\n",
    "@rget x\n",
    "@rget cd;"
   ]
  },
  {
   "cell_type": "code",
   "execution_count": 5,
   "metadata": {},
   "outputs": [
    {
     "name": "stderr",
     "output_type": "stream",
     "text": [
      "┌ Warning: `getindex(df::DataFrame, col_ind::ColumnIndex)` is deprecated, use `df[!, col_ind]` instead.\n",
      "│   caller = top-level scope at In[5]:1\n",
      "└ @ Core In[5]:1\n"
     ]
    }
   ],
   "source": [
    "price = cd[:price];"
   ]
  },
  {
   "cell_type": "code",
   "execution_count": 6,
   "metadata": {},
   "outputs": [],
   "source": [
    "\n",
    "using DataFrames\n",
    "x = DataFrame(x)\n",
    "describe(x)\n",
    "first(cd,6);\n"
   ]
  },
  {
   "cell_type": "code",
   "execution_count": 23,
   "metadata": {},
   "outputs": [
    {
     "name": "stderr",
     "output_type": "stream",
     "text": [
      "┌ Warning: `getindex(df::DataFrame, col_ind::ColumnIndex)` is deprecated, use `df[!, col_ind]` instead.\n",
      "│   caller = top-level scope at In[23]:2\n",
      "└ @ Core In[23]:2\n"
     ]
    },
    {
     "data": {
      "text/plain": [
       "Least Squares GLMNet Cross Validation\n",
       "95 models for 37 predictors in 10 folds\n",
       "Best λ 2.569 (mean loss 33675190.223, std 606045.744)"
      ]
     },
     "execution_count": 23,
     "metadata": {},
     "output_type": "execute_result"
    }
   ],
   "source": [
    "mat = convert(Matrix, x[:,:])\n",
    "cd_mat = convert(Array, cd[:price])\n",
    "using StatsPlots\n",
    "path = glmnet(mat,cd_mat);\n",
    "#using Gadfly\n",
    "#xto_plot = result.fit\n",
    "cv = glmnetcv(mat, cd_mat)"
   ]
  },
  {
   "cell_type": "markdown",
   "metadata": {},
   "source": [
    "* In the code below I reproduce a figure from the R instructional course content but by using Julia native code."
   ]
  },
  {
   "cell_type": "code",
   "execution_count": 33,
   "metadata": {},
   "outputs": [
    {
     "data": {
      "image/svg+xml": [
       "<?xml version=\"1.0\" encoding=\"utf-8\"?>\n",
       "<svg xmlns=\"http://www.w3.org/2000/svg\" xmlns:xlink=\"http://www.w3.org/1999/xlink\" width=\"600\" height=\"400\" viewBox=\"0 0 2400 1600\">\n",
       "<defs>\n",
       "  <clipPath id=\"clip0000\">\n",
       "    <rect x=\"0\" y=\"0\" width=\"2400\" height=\"1600\"/>\n",
       "  </clipPath>\n",
       "</defs>\n",
       "<path clip-path=\"url(#clip0000)\" d=\"\n",
       "M0 1600 L2400 1600 L2400 0 L0 0  Z\n",
       "  \" fill=\"#ffffff\" fill-rule=\"evenodd\" fill-opacity=\"1\"/>\n",
       "<defs>\n",
       "  <clipPath id=\"clip0001\">\n",
       "    <rect x=\"480\" y=\"0\" width=\"1681\" height=\"1600\"/>\n",
       "  </clipPath>\n",
       "</defs>\n",
       "<path clip-path=\"url(#clip0000)\" d=\"\n",
       "M180.66 1487.47 L2352.76 1487.47 L2352.76 47.2441 L180.66 47.2441  Z\n",
       "  \" fill=\"#ffffff\" fill-rule=\"evenodd\" fill-opacity=\"1\"/>\n",
       "<defs>\n",
       "  <clipPath id=\"clip0002\">\n",
       "    <rect x=\"180\" y=\"47\" width=\"2173\" height=\"1441\"/>\n",
       "  </clipPath>\n",
       "</defs>\n",
       "<polyline clip-path=\"url(#clip0002)\" style=\"stroke:#000000; stroke-width:2; stroke-opacity:0.1; fill:none\" points=\"\n",
       "  220.335,1487.47 220.335,47.2441 \n",
       "  \"/>\n",
       "<polyline clip-path=\"url(#clip0002)\" style=\"stroke:#000000; stroke-width:2; stroke-opacity:0.1; fill:none\" points=\"\n",
       "  656.324,1487.47 656.324,47.2441 \n",
       "  \"/>\n",
       "<polyline clip-path=\"url(#clip0002)\" style=\"stroke:#000000; stroke-width:2; stroke-opacity:0.1; fill:none\" points=\"\n",
       "  1092.31,1487.47 1092.31,47.2441 \n",
       "  \"/>\n",
       "<polyline clip-path=\"url(#clip0002)\" style=\"stroke:#000000; stroke-width:2; stroke-opacity:0.1; fill:none\" points=\"\n",
       "  1528.3,1487.47 1528.3,47.2441 \n",
       "  \"/>\n",
       "<polyline clip-path=\"url(#clip0002)\" style=\"stroke:#000000; stroke-width:2; stroke-opacity:0.1; fill:none\" points=\"\n",
       "  1964.29,1487.47 1964.29,47.2441 \n",
       "  \"/>\n",
       "<polyline clip-path=\"url(#clip0002)\" style=\"stroke:#000000; stroke-width:2; stroke-opacity:0.1; fill:none\" points=\"\n",
       "  180.66,1347.41 2352.76,1347.41 \n",
       "  \"/>\n",
       "<polyline clip-path=\"url(#clip0002)\" style=\"stroke:#000000; stroke-width:2; stroke-opacity:0.1; fill:none\" points=\"\n",
       "  180.66,1051.37 2352.76,1051.37 \n",
       "  \"/>\n",
       "<polyline clip-path=\"url(#clip0002)\" style=\"stroke:#000000; stroke-width:2; stroke-opacity:0.1; fill:none\" points=\"\n",
       "  180.66,755.335 2352.76,755.335 \n",
       "  \"/>\n",
       "<polyline clip-path=\"url(#clip0002)\" style=\"stroke:#000000; stroke-width:2; stroke-opacity:0.1; fill:none\" points=\"\n",
       "  180.66,459.299 2352.76,459.299 \n",
       "  \"/>\n",
       "<polyline clip-path=\"url(#clip0002)\" style=\"stroke:#000000; stroke-width:2; stroke-opacity:0.1; fill:none\" points=\"\n",
       "  180.66,163.263 2352.76,163.263 \n",
       "  \"/>\n",
       "<polyline clip-path=\"url(#clip0000)\" style=\"stroke:#000000; stroke-width:4; stroke-opacity:1; fill:none\" points=\"\n",
       "  180.66,1487.47 2352.76,1487.47 \n",
       "  \"/>\n",
       "<polyline clip-path=\"url(#clip0000)\" style=\"stroke:#000000; stroke-width:4; stroke-opacity:1; fill:none\" points=\"\n",
       "  180.66,1487.47 180.66,47.2441 \n",
       "  \"/>\n",
       "<polyline clip-path=\"url(#clip0000)\" style=\"stroke:#000000; stroke-width:4; stroke-opacity:1; fill:none\" points=\"\n",
       "  220.335,1487.47 220.335,1465.87 \n",
       "  \"/>\n",
       "<polyline clip-path=\"url(#clip0000)\" style=\"stroke:#000000; stroke-width:4; stroke-opacity:1; fill:none\" points=\"\n",
       "  656.324,1487.47 656.324,1465.87 \n",
       "  \"/>\n",
       "<polyline clip-path=\"url(#clip0000)\" style=\"stroke:#000000; stroke-width:4; stroke-opacity:1; fill:none\" points=\"\n",
       "  1092.31,1487.47 1092.31,1465.87 \n",
       "  \"/>\n",
       "<polyline clip-path=\"url(#clip0000)\" style=\"stroke:#000000; stroke-width:4; stroke-opacity:1; fill:none\" points=\"\n",
       "  1528.3,1487.47 1528.3,1465.87 \n",
       "  \"/>\n",
       "<polyline clip-path=\"url(#clip0000)\" style=\"stroke:#000000; stroke-width:4; stroke-opacity:1; fill:none\" points=\"\n",
       "  1964.29,1487.47 1964.29,1465.87 \n",
       "  \"/>\n",
       "<polyline clip-path=\"url(#clip0000)\" style=\"stroke:#000000; stroke-width:4; stroke-opacity:1; fill:none\" points=\"\n",
       "  180.66,1347.41 213.242,1347.41 \n",
       "  \"/>\n",
       "<polyline clip-path=\"url(#clip0000)\" style=\"stroke:#000000; stroke-width:4; stroke-opacity:1; fill:none\" points=\"\n",
       "  180.66,1051.37 213.242,1051.37 \n",
       "  \"/>\n",
       "<polyline clip-path=\"url(#clip0000)\" style=\"stroke:#000000; stroke-width:4; stroke-opacity:1; fill:none\" points=\"\n",
       "  180.66,755.335 213.242,755.335 \n",
       "  \"/>\n",
       "<polyline clip-path=\"url(#clip0000)\" style=\"stroke:#000000; stroke-width:4; stroke-opacity:1; fill:none\" points=\"\n",
       "  180.66,459.299 213.242,459.299 \n",
       "  \"/>\n",
       "<polyline clip-path=\"url(#clip0000)\" style=\"stroke:#000000; stroke-width:4; stroke-opacity:1; fill:none\" points=\"\n",
       "  180.66,163.263 213.242,163.263 \n",
       "  \"/>\n",
       "<g clip-path=\"url(#clip0000)\">\n",
       "<text style=\"fill:#000000; fill-opacity:1; font-family:Arial,Helvetica Neue,Helvetica,sans-serif; font-size:48px; text-anchor:middle;\" transform=\"rotate(0, 220.335, 1541.47)\" x=\"220.335\" y=\"1541.47\">0</text>\n",
       "</g>\n",
       "<g clip-path=\"url(#clip0000)\">\n",
       "<text style=\"fill:#000000; fill-opacity:1; font-family:Arial,Helvetica Neue,Helvetica,sans-serif; font-size:48px; text-anchor:middle;\" transform=\"rotate(0, 656.324, 1541.47)\" x=\"656.324\" y=\"1541.47\">20</text>\n",
       "</g>\n",
       "<g clip-path=\"url(#clip0000)\">\n",
       "<text style=\"fill:#000000; fill-opacity:1; font-family:Arial,Helvetica Neue,Helvetica,sans-serif; font-size:48px; text-anchor:middle;\" transform=\"rotate(0, 1092.31, 1541.47)\" x=\"1092.31\" y=\"1541.47\">40</text>\n",
       "</g>\n",
       "<g clip-path=\"url(#clip0000)\">\n",
       "<text style=\"fill:#000000; fill-opacity:1; font-family:Arial,Helvetica Neue,Helvetica,sans-serif; font-size:48px; text-anchor:middle;\" transform=\"rotate(0, 1528.3, 1541.47)\" x=\"1528.3\" y=\"1541.47\">60</text>\n",
       "</g>\n",
       "<g clip-path=\"url(#clip0000)\">\n",
       "<text style=\"fill:#000000; fill-opacity:1; font-family:Arial,Helvetica Neue,Helvetica,sans-serif; font-size:48px; text-anchor:middle;\" transform=\"rotate(0, 1964.29, 1541.47)\" x=\"1964.29\" y=\"1541.47\">80</text>\n",
       "</g>\n",
       "<g clip-path=\"url(#clip0000)\">\n",
       "<text style=\"fill:#000000; fill-opacity:1; font-family:Arial,Helvetica Neue,Helvetica,sans-serif; font-size:48px; text-anchor:end;\" transform=\"rotate(0, 156.66, 1364.91)\" x=\"156.66\" y=\"1364.91\">17.5</text>\n",
       "</g>\n",
       "<g clip-path=\"url(#clip0000)\">\n",
       "<text style=\"fill:#000000; fill-opacity:1; font-family:Arial,Helvetica Neue,Helvetica,sans-serif; font-size:48px; text-anchor:end;\" transform=\"rotate(0, 156.66, 1068.87)\" x=\"156.66\" y=\"1068.87\">18.0</text>\n",
       "</g>\n",
       "<g clip-path=\"url(#clip0000)\">\n",
       "<text style=\"fill:#000000; fill-opacity:1; font-family:Arial,Helvetica Neue,Helvetica,sans-serif; font-size:48px; text-anchor:end;\" transform=\"rotate(0, 156.66, 772.835)\" x=\"156.66\" y=\"772.835\">18.5</text>\n",
       "</g>\n",
       "<g clip-path=\"url(#clip0000)\">\n",
       "<text style=\"fill:#000000; fill-opacity:1; font-family:Arial,Helvetica Neue,Helvetica,sans-serif; font-size:48px; text-anchor:end;\" transform=\"rotate(0, 156.66, 476.799)\" x=\"156.66\" y=\"476.799\">19.0</text>\n",
       "</g>\n",
       "<g clip-path=\"url(#clip0000)\">\n",
       "<text style=\"fill:#000000; fill-opacity:1; font-family:Arial,Helvetica Neue,Helvetica,sans-serif; font-size:48px; text-anchor:end;\" transform=\"rotate(0, 156.66, 180.763)\" x=\"156.66\" y=\"180.763\">19.5</text>\n",
       "</g>\n",
       "<polyline clip-path=\"url(#clip0002)\" style=\"stroke:#009af9; stroke-width:4; stroke-opacity:1; fill:none\" points=\"\n",
       "  242.135,1446.71 263.934,1446.67 285.734,1446.61 307.533,1446.55 329.332,1446.48 351.132,1446.39 372.931,1446.29 394.731,1446.17 416.53,1446.03 438.33,1445.88 \n",
       "  460.129,1445.72 481.928,1445.54 503.728,1445.34 525.527,1445.12 547.327,1444.89 569.126,1444.66 590.926,1444.33 612.725,1443.93 634.525,1443.46 656.324,1442.89 \n",
       "  678.123,1442.26 699.923,1441.59 721.722,1440.94 743.522,1440.35 765.321,1439.7 787.121,1438.92 808.92,1437.99 830.719,1436.87 852.519,1435.53 874.318,1433.93 \n",
       "  896.118,1432.01 917.917,1429.72 939.717,1426.93 961.516,1424.77 983.315,1423.91 1005.11,1423 1026.91,1421.88 1048.71,1420.6 1070.51,1419.03 1092.31,1417.18 \n",
       "  1114.11,1414.98 1135.91,1412.04 1157.71,1406.07 1179.51,1401.08 1201.31,1396.8 1223.11,1393.12 1244.91,1389.35 1266.71,1384.95 1288.51,1379.79 1310.31,1373.76 \n",
       "  1332.11,1366.82 1353.91,1359.06 1375.71,1351.47 1397.5,1342.53 1419.3,1331.98 1441.1,1320.03 1462.9,1306.63 1484.7,1290.94 1506.5,1272.49 1528.3,1257.54 \n",
       "  1550.1,1246.67 1571.9,1234.04 1593.7,1219.62 1615.5,1210.38 1637.3,1200.64 1659.1,1191.3 1680.9,1180.31 1702.7,1168.73 1724.5,1156.48 1746.3,1145.08 \n",
       "  1768.1,1132.77 1789.89,1118.27 1811.69,1101.26 1833.49,1081.38 1855.29,1067.57 1877.09,1053.84 1898.89,1037.72 1920.69,1018.86 1942.49,996.918 1964.29,971.527 \n",
       "  1986.09,942.357 2007.89,908.991 2029.69,871.148 2051.49,828.56 2073.29,781.025 2095.09,728.414 2116.89,670.686 2138.69,607.931 2160.48,540.191 2182.28,467.705 \n",
       "  2204.08,397.92 2225.88,326.756 2247.68,251.044 2269.48,171.089 2291.28,88.0053 \n",
       "  \"/>\n",
       "<path clip-path=\"url(#clip0000)\" d=\"\n",
       "M1989.93 251.724 L2280.76 251.724 L2280.76 130.764 L1989.93 130.764  Z\n",
       "  \" fill=\"#ffffff\" fill-rule=\"evenodd\" fill-opacity=\"1\"/>\n",
       "<polyline clip-path=\"url(#clip0000)\" style=\"stroke:#000000; stroke-width:4; stroke-opacity:1; fill:none\" points=\"\n",
       "  1989.93,251.724 2280.76,251.724 2280.76,130.764 1989.93,130.764 1989.93,251.724 \n",
       "  \"/>\n",
       "<polyline clip-path=\"url(#clip0000)\" style=\"stroke:#009af9; stroke-width:4; stroke-opacity:1; fill:none\" points=\"\n",
       "  2013.93,191.244 2157.93,191.244 \n",
       "  \"/>\n",
       "<g clip-path=\"url(#clip0000)\">\n",
       "<text style=\"fill:#000000; fill-opacity:1; font-family:Arial,Helvetica Neue,Helvetica,sans-serif; font-size:48px; text-anchor:start;\" transform=\"rotate(0, 2181.93, 208.744)\" x=\"2181.93\" y=\"208.744\">y1</text>\n",
       "</g>\n",
       "</svg>\n"
      ]
     },
     "execution_count": 33,
     "metadata": {},
     "output_type": "execute_result"
    }
   ],
   "source": [
    "argmin(cv.meanloss)\n",
    "cv.path.betas[:, 37]\n",
    "cv.meanloss\n",
    "using Gadfly\n",
    "x = log.(cv.meanloss)\n",
    "x=x[end:-1:1,end:-1:1]\n",
    "plot(x)"
   ]
  },
  {
   "cell_type": "code",
   "execution_count": 20,
   "metadata": {},
   "outputs": [
    {
     "data": {
      "text/plain": [
       "Least Squares GLMNet Solution Path (95 solutions for 37 predictors in 1688 passes):\n",
       "───────────────────────────────\n",
       "      df   pct_dev            λ\n",
       "───────────────────────────────\n",
       " [1]   0  0.0       16131.4    \n",
       " [2]   1  0.132062  14698.3    \n",
       " [3]   1  0.241703  13392.6    \n",
       " [4]   1  0.332729  12202.8    \n",
       " [5]   1  0.4083    11118.7    \n",
       " [6]   2  0.474096  10131.0    \n",
       " [7]   2  0.534698   9230.98   \n",
       " [8]   2  0.585005   8410.92   \n",
       " [9]   2  0.626743   7663.72   \n",
       "[10]   2  0.661421   6982.9    \n",
       "[11]   2  0.690212   6362.56   \n",
       "[12]   2  0.714115   5797.32   \n",
       "[13]   2  0.733959   5282.31   \n",
       "[14]   2  0.750434   4813.04   \n",
       "[15]   2  0.764112   4385.46   \n",
       "[16]   2  0.775454   3995.87   \n",
       "[17]   2  0.784883   3640.89   \n",
       "[18]   2  0.792713   3317.44   \n",
       "[19]   2  0.799212   3022.73   \n",
       "[20]   2  0.804609   2754.2    \n",
       "[21]   2  0.809089   2509.52   \n",
       "[22]   4  0.813506   2286.58   \n",
       "[23]   4  0.819673   2083.45   \n",
       "[24]   4  0.824782   1898.36   \n",
       "[25]   4  0.829023   1729.72   \n",
       "[26]   4  0.832544   1576.05   \n",
       "[27]   5  0.835841   1436.04   \n",
       "[28]   5  0.839259   1308.47   \n",
       "[29]   6  0.842384   1192.23   \n",
       "[30]   6  0.845271   1086.31   \n",
       "[31]   6  0.847654    989.808  \n",
       "[32]   7  0.850185    901.876  \n",
       "[33]   8  0.852509    821.756  \n",
       "[34]   9  0.856092    748.753  \n",
       "[35]   9  0.859131    682.236  \n",
       "[36]  10  0.86169     621.628  \n",
       "[37]  15  0.865187    566.404  \n",
       "[38]  15  0.869334    516.087  \n",
       "[39]  15  0.872745    470.239  \n",
       "[40]  15  0.875594    428.464  \n",
       "[41]  16  0.878104    390.401  \n",
       "[42]  16  0.880248    355.718  \n",
       "[43]  17  0.88207     324.117  \n",
       "[44]  17  0.883559    295.324  \n",
       "[45]  18  0.885086    269.088  \n",
       "[46]  18  0.886419    245.183  \n",
       "[47]  20  0.887588    223.402  \n",
       "[48]  21  0.888567    203.555  \n",
       "[49]  22  0.889404    185.472  \n",
       "[50]  23  0.890129    168.995  \n",
       "[51]  24  0.890825    153.982  \n",
       "[52]  24  0.891615    140.303  \n",
       "[53]  25  0.892538    127.839  \n",
       "[54]  26  0.893624    116.482  \n",
       "[55]  26  0.894136    106.134  \n",
       "[56]  26  0.89452      96.7052 \n",
       "[57]  26  0.894857     88.1142 \n",
       "[58]  27  0.89514      80.2863 \n",
       "[59]  28  0.895373     73.1539 \n",
       "[60]  28  0.895575     66.6551 \n",
       "[61]  28  0.895738     60.7337 \n",
       "[62]  30  0.895898     55.3383 \n",
       "[63]  30  0.896299     50.4222 \n",
       "[64]  30  0.89678      45.9428 \n",
       "[65]  30  0.897181     41.8614 \n",
       "[66]  30  0.897517     38.1425 \n",
       "[67]  31  0.897795     34.754  \n",
       "[68]  31  0.898027     31.6666 \n",
       "[69]  32  0.898225     28.8534 \n",
       "[70]  32  0.898388     26.2902 \n",
       "[71]  32  0.898524     23.9546 \n",
       "[72]  33  0.89864      21.8266 \n",
       "[73]  34  0.898754     19.8875 \n",
       "[74]  34  0.898876     18.1208 \n",
       "[75]  34  0.899001     16.511  \n",
       "[76]  34  0.899114     15.0442 \n",
       "[77]  34  0.899215     13.7077 \n",
       "[78]  34  0.899302     12.49   \n",
       "[79]  34  0.899365     11.3804 \n",
       "[80]  34  0.899416     10.3694 \n",
       "[81]  35  0.899453      9.44819\n",
       "[82]  35  0.899496      8.60884\n",
       "[83]  35  0.899538      7.84406\n",
       "[84]  36  0.899573      7.14721\n",
       "[85]  36  0.899608      6.51227\n",
       "[86]  36  0.899637      5.93374\n",
       "[87]  36  0.899662      5.4066 \n",
       "[88]  36  0.899689      4.9263 \n",
       "[89]  36  0.89971       4.48866\n",
       "[90]  36  0.899729      4.0899 \n",
       "[91]  36  0.899744      3.72656\n",
       "[92]  36  0.899757      3.3955 \n",
       "[93]  36  0.899767      3.09386\n",
       "[94]  37  0.899777      2.81901\n",
       "[95]  37  0.899785      2.56857\n",
       "───────────────────────────────"
      ]
     },
     "execution_count": 20,
     "metadata": {},
     "output_type": "execute_result"
    }
   ],
   "source": [
    "result\n",
    "using Plots\n"
   ]
  },
  {
   "cell_type": "code",
   "execution_count": 34,
   "metadata": {},
   "outputs": [
    {
     "data": {
      "image/png": "[encoded data removed]"
     },
     "metadata": {},
     "output_type": "display_data"
    },
    {
     "data": {
      "text/plain": [
       "RObject{NilSxp}\n",
       "NULL\n"
      ]
     },
     "execution_count": 34,
     "metadata": {},
     "output_type": "execute_result"
    }
   ],
   "source": [
    "R\"\"\"\n",
    "lm1 = lm(price~.,cd)\n",
    "lm2 = lm(price~.,data.frame(price=cd$price,x))\n",
    "summary(lm1$fitted-lm2$fitted)\n",
    "cvglcd = cv.glmnet(x,cd$price,family=\"gaussian\")\n",
    "glcd = cvglcd$glmnet.fit\n",
    "plot(cvglcd) #see cross validation\n",
    "\"\"\"\n"
   ]
  },
  {
   "cell_type": "code",
   "execution_count": 10,
   "metadata": {},
   "outputs": [
    {
     "data": {
      "text/latex": [
       "No documentation found.\n",
       "\n",
       "\\texttt{result} is of type \\texttt{GLMNetPath\\{Normal\\{Float64\\}\\}}.\n",
       "\n",
       "\\section{Summary}\n",
       "\\begin{verbatim}\n",
       "struct GLMNetPath{Normal{Float64}} <: Any\n",
       "\\end{verbatim}\n",
       "\\section{Fields}\n",
       "\\begin{verbatim}\n",
       "family    :: Normal{Float64}\n",
       "a0        :: Array{Float64,1}\n",
       "betas     :: CompressedPredictorMatrix\n",
       "null_dev  :: Float64\n",
       "dev_ratio :: Array{Float64,1}\n",
       "lambda    :: Array{Float64,1}\n",
       "npasses   :: Int64\n",
       "\\end{verbatim}\n"
      ],
      "text/markdown": [
       "No documentation found.\n",
       "\n",
       "`result` is of type `GLMNetPath{Normal{Float64}}`.\n",
       "\n",
       "# Summary\n",
       "\n",
       "```\n",
       "struct GLMNetPath{Normal{Float64}} <: Any\n",
       "```\n",
       "\n",
       "# Fields\n",
       "\n",
       "```\n",
       "family    :: Normal{Float64}\n",
       "a0        :: Array{Float64,1}\n",
       "betas     :: CompressedPredictorMatrix\n",
       "null_dev  :: Float64\n",
       "dev_ratio :: Array{Float64,1}\n",
       "lambda    :: Array{Float64,1}\n",
       "npasses   :: Int64\n",
       "```\n"
      ],
      "text/plain": [
       "  No documentation found.\n",
       "\n",
       "  \u001b[36mresult\u001b[39m is of type \u001b[36mGLMNetPath{Normal{Float64}}\u001b[39m.\n",
       "\n",
       "\u001b[1m  Summary\u001b[22m\n",
       "\u001b[1m  ≡≡≡≡≡≡≡≡≡\u001b[22m\n",
       "\n",
       "\u001b[36m  struct GLMNetPath{Normal{Float64}} <: Any\u001b[39m\n",
       "\n",
       "\u001b[1m  Fields\u001b[22m\n",
       "\u001b[1m  ≡≡≡≡≡≡≡≡\u001b[22m\n",
       "\n",
       "\u001b[36m  family    :: Normal{Float64}\u001b[39m\n",
       "\u001b[36m  a0        :: Array{Float64,1}\u001b[39m\n",
       "\u001b[36m  betas     :: CompressedPredictorMatrix\u001b[39m\n",
       "\u001b[36m  null_dev  :: Float64\u001b[39m\n",
       "\u001b[36m  dev_ratio :: Array{Float64,1}\u001b[39m\n",
       "\u001b[36m  lambda    :: Array{Float64,1}\u001b[39m\n",
       "\u001b[36m  npasses   :: Int64\u001b[39m"
      ]
     },
     "execution_count": 10,
     "metadata": {},
     "output_type": "execute_result"
    }
   ],
   "source": [
    "@doc result"
   ]
  },
  {
   "cell_type": "code",
   "execution_count": null,
   "metadata": {},
   "outputs": [],
   "source": []
  },
  {
   "cell_type": "code",
   "execution_count": null,
   "metadata": {},
   "outputs": [],
   "source": []
  }
 ],
 "metadata": {
  "kernelspec": {
   "display_name": "Julia 1.1.0",
   "language": "julia",
   "name": "julia-1.1"
  },
  "language_info": {
   "file_extension": ".jl",
   "mimetype": "application/julia",
   "name": "julia",
   "version": "1.1.0"
  }
 },
 "nbformat": 4,
 "nbformat_minor": 4
}
