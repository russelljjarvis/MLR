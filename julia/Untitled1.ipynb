{
 "cells": [
  {
   "cell_type": "code",
   "execution_count": 1,
   "metadata": {},
   "outputs": [],
   "source": [
    "using Flux\n",
    "using Statistics\n",
    "using Flux.Tracker, Statistics\n",
    "using Flux.NNlib\n",
    "using Flux: throttle, normalise\n",
    "using Flux: binarycrossentropy\n",
    "using Base.Iterators: repeated\n",
    "using Flux: @epochs\n"
   ]
  },
  {
   "cell_type": "code",
   "execution_count": 3,
   "metadata": {},
   "outputs": [
    {
     "name": "stdout",
     "output_type": "stream",
     "text": [
      "\u001b[32m\u001b[1m  Updating\u001b[22m\u001b[39m registry at `~/.julia/registries/General`\n",
      "\u001b[32m\u001b[1m  Updating\u001b[22m\u001b[39m git-repo `https://github.com/JuliaRegistries/General.git`\n",
      "\u001b[2K\u001b[?25h[1mFetching:\u001b[22m\u001b[39m [========================================>]  99.9 %0.0 %\u001b[36m\u001b[1mFetching:\u001b[22m\u001b[39m [=======>                                 ]  16.7 %\u001b[36m\u001b[1mFetching:\u001b[22m\u001b[39m [========>                                ]  18.6 %                           ]  30.7 %\u001b[36m\u001b[1mFetching:\u001b[22m\u001b[39m [================>                        ]  39.4 %                   ]  51.5 % [==========================>              ]  63.7 %75.8 % ]  95.6 %\u001b[36m\u001b[1mFetching:\u001b[22m\u001b[39m [=======================================> ]  96.0 %"
     ]
    },
    {
     "name": "stderr",
     "output_type": "stream",
     "text": [
      "┌ Warning: Some registries failed to update:\n",
      "│     — /home/russell/.julia/registries/General — failed to fetch from repo\n",
      "└ @ Pkg.Types /buildworker/worker/package_linux64/build/usr/share/julia/stdlib/v1.1/Pkg/src/Types.jl:1269\n"
     ]
    },
    {
     "name": "stdout",
     "output_type": "stream",
     "text": [
      "\u001b[32m\u001b[1m Resolving\u001b[22m\u001b[39m package versions...\n",
      "\u001b[32m\u001b[1m Installed\u001b[22m\u001b[39m StatPlots ─ v0.9.2\n",
      "\u001b[32m\u001b[1m  Updating\u001b[22m\u001b[39m `~/.julia/environments/v1.1/Project.toml`\n",
      " \u001b[90m [60ddc479]\u001b[39m\u001b[92m + StatPlots v0.9.2\u001b[39m\n",
      "\u001b[32m\u001b[1m  Updating\u001b[22m\u001b[39m `~/.julia/environments/v1.1/Manifest.toml`\n",
      " \u001b[90m [60ddc479]\u001b[39m\u001b[92m + StatPlots v0.9.2\u001b[39m\n"
     ]
    },
    {
     "name": "stderr",
     "output_type": "stream",
     "text": [
      "┌ Warning: You are using Matplotlib 1.5.3, which is no longer officialy supported by the Plots community. To ensure smooth Plots.jl integration update your Matplotlib library to a version >= 2.0.0\n",
      "└ @ Plots /home/russell/.julia/packages/Plots/47Tik/src/backends/pyplot.jl:31\n"
     ]
    }
   ],
   "source": [
    "using DataFrames, CSV\n",
    "using Plots \n",
    "\n",
    "#using Pkg\n",
    "#Pkg.add(\"StatPlots\")\n",
    "pyplot();\n"
   ]
  },
  {
   "cell_type": "code",
   "execution_count": 5,
   "metadata": {},
   "outputs": [],
   "source": [
    "#data = CSV.read(\"ex2data1.txt\");\n",
    "\n",
    "using CSV, DataFrames\n",
    "file = \"BostonHousing.csv\"\n",
    "\n",
    "data = DataFrame(CSV.File(file)) #|> DataFrame!\n",
    "#df[:medv]\n",
    "#\n",
    "lstat = df[:lstat]\n",
    "medv = df[:medv]\n",
    "\n",
    "## Renaming columns of the dataset\n",
    "## This is how we can rename columns of a DataFrame in Julia v1.0\n",
    "#newnames = [\"Score_1\", \"Score_2\",\"Result\"];\n",
    "#names!(data, Symbol.(newnames));"
   ]
  },
  {
   "cell_type": "code",
   "execution_count": 7,
   "metadata": {},
   "outputs": [
    {
     "ename": "LoadError",
     "evalue": "UndefVarError: @df not defined",
     "output_type": "error",
     "traceback": [
      "UndefVarError: @df not defined",
      ""
     ]
    }
   ],
   "source": [
    "@df data scatter(:lstat,:medv, zcolor= :Result, xaxis = \"Score in Test 1\", yaxis=\"Score in Test 2\", lab=\"Admit\")"
   ]
  },
  {
   "cell_type": "code",
   "execution_count": null,
   "metadata": {},
   "outputs": [],
   "source": []
  }
 ],
 "metadata": {
  "kernelspec": {
   "display_name": "Julia 1.1.0",
   "language": "julia",
   "name": "julia-1.1"
  },
  "language_info": {
   "file_extension": ".jl",
   "mimetype": "application/julia",
   "name": "julia",
   "version": "1.1.0"
  }
 },
 "nbformat": 4,
 "nbformat_minor": 4
}
