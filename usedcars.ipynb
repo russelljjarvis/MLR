{
 "cells": [
  {
   "cell_type": "code",
   "execution_count": 1,
   "metadata": {},
   "outputs": [],
   "source": [
    "using Pkg\n",
    "#Pkg.add(\"Knet\")\n",
    "using IJulia\n",
    "\n",
    "\n",
    "using Knet;\n",
    "using DataFrames\n",
    "using Plots;\n",
    "using StatsPlots;\n",
    "#Pkg.add(\"RCall\")\n",
    "using RCall"
   ]
  },
  {
   "cell_type": "code",
   "execution_count": 2,
   "metadata": {},
   "outputs": [
    {
     "name": "stdout",
     "output_type": "stream",
     "text": [
      "g++  -I/usr/share/R/include -DNDEBUG  -I\"/home/russell/R/x86_64-pc-linux-gnu-library/3.4/Rcpp/include\"    -fpic  -g -O2 -fdebug-prefix-map=/build/r-base-AitvI6/r-base-3.4.4=. -fstack-protector-strong -Wformat -Werror=format-security -Wdate-time -D_FORTIFY_SOURCE=2 -g  -c RcppExports.cpp -o RcppExports.o\n",
      "g++  -I/usr/share/R/include -DNDEBUG  -I\"/home/russell/R/x86_64-pc-linux-gnu-library/3.4/Rcpp/include\"    -fpic  -g -O2 -fdebug-prefix-map=/build/r-base-AitvI6/r-base-3.4.4=. -fstack-protector-strong -Wformat -Werror=format-security -Wdate-time -D_FORTIFY_SOURCE=2 -g  -c layout.cpp -o layout.o\n",
      "g++ -shared -L/usr/lib/R/lib -Wl,-Bsymbolic-functions -Wl,-z,relro -o wordcloud.so RcppExports.o layout.o -L/usr/lib/R/lib -lR\n",
      " chr [1:1140] \"€˜ll\" \"€˜s\" \"abiola\" \"abl\" \"abt\" \"access\" \"account\" \"across\" ...\n",
      " chr [1:4169, 1:1140] \"No\" \"No\" \"No\" \"No\" \"No\" \"No\" \"No\" \"No\" \"No\" \"No\" ...\n",
      " - attr(*, \"dimnames\")="
     ]
    },
    {
     "name": "stderr",
     "output_type": "stream",
     "text": [
      "* installing *source* package ‘wordcloud’ ...\n",
      "** package ‘wordcloud’ successfully unpacked and MD5 sums checked\n",
      "** libs\n",
      "installing to /home/russell/R/x86_64-pc-linux-gnu-library/3.4/wordcloud/libs\n",
      "** R\n",
      "** data\n",
      "** preparing package for lazy loading\n",
      "** help\n",
      "*** installing help indices\n",
      "** building package indices\n",
      "** testing if installed package can be loaded\n",
      "* DONE (wordcloud)\n"
     ]
    },
    {
     "name": "stdout",
     "output_type": "stream",
     "text": [
      "List of 2\n",
      "  ..$ Docs : chr [1:4169] \"3251\" \"633\" \"3803\" \"5515\" ...\n",
      "  ..$ Terms: chr [1:1140] \"€˜ll\" \"€˜s\" \"abiola\" \"abl\" ...\n",
      "number of workers is:  8 \n"
     ]
    },
    {
     "ename": "RCall.REvalError",
     "evalue": "REvalError: Installing package into ‘/home/russell/R/x86_64-pc-linux-gnu-library/3.4’\n(as ‘lib’ is unspecified)\ntrying URL 'http://cran.us.r-project.org/src/contrib/wordcloud_2.6.tar.gz'\nContent type 'application/x-gzip' length 42454 bytes (41 KB)\n==================================================\ndownloaded 41 KB\n\n\nThe downloaded source packages are in\n\t‘/tmp/RtmpRRnT5i/downloaded_packages’\nLoading required package: RColorBrewer\nLoading required package: NLP\nLoading required package: foreach\nLoading required package: iterators\nLoading required package: parallel\nError in as.data.frame.default(x) : \n  cannot coerce class \"c(\"DocumentTermMatrix\", \"simple_triplet_matrix\")\" to a data.frame\nCalls: source ... naiveBayes.default -> as.data.frame -> as.data.frame.default",
     "output_type": "error",
     "traceback": [
      "REvalError: Installing package into ‘/home/russell/R/x86_64-pc-linux-gnu-library/3.4’\n(as ‘lib’ is unspecified)\ntrying URL 'http://cran.us.r-project.org/src/contrib/wordcloud_2.6.tar.gz'\nContent type 'application/x-gzip' length 42454 bytes (41 KB)\n==================================================\ndownloaded 41 KB\n\n\nThe downloaded source packages are in\n\t‘/tmp/RtmpRRnT5i/downloaded_packages’\nLoading required package: RColorBrewer\nLoading required package: NLP\nLoading required package: foreach\nLoading required package: iterators\nLoading required package: parallel\nError in as.data.frame.default(x) : \n  cannot coerce class \"c(\"DocumentTermMatrix\", \"simple_triplet_matrix\")\" to a data.frame\nCalls: source ... naiveBayes.default -> as.data.frame -> as.data.frame.default",
      "",
      "Stacktrace:",
      " [1] #handle_eval_stderr#41(::Bool, ::Function) at /home/russell/.julia/packages/RCall/iojZI/src/io.jl:115",
      " [2] #handle_eval_stderr at ./none:0 [inlined]",
      " [3] reval_p(::Ptr{LangSxp}, ::Ptr{EnvSxp}) at /home/russell/.julia/packages/RCall/iojZI/src/eval.jl:99",
      " [4] reval_p(::Ptr{RCall.ExprSxp}, ::Ptr{EnvSxp}) at /home/russell/.julia/packages/RCall/iojZI/src/eval.jl:115",
      " [5] reval(::String, ::RObject{EnvSxp}) at /home/russell/.julia/packages/RCall/iojZI/src/eval.jl:132",
      " [6] top-level scope at /home/russell/.julia/packages/RCall/iojZI/src/macros.jl:71",
      " [7] top-level scope at In[2]:1"
     ]
    }
   ],
   "source": [
    "R\"source('rscripts/assignment2.r')\""
   ]
  },
  {
   "cell_type": "code",
   "execution_count": 3,
   "metadata": {},
   "outputs": [
    {
     "name": "stderr",
     "output_type": "stream",
     "text": [
      "* installing *source* package ‘JuliaCall’ ...\n",
      "** package ‘JuliaCall’ successfully unpacked and MD5 sums checked\n",
      "mv: cannot move '/home/russell/R/x86_64-pc-linux-gnu-library/3.4/JuliaCall' to '/home/russell/R/x86_64-pc-linux-gnu-library/3.4/00LOCK-JuliaCall/JuliaCall': Permission denied\n",
      "Warning in file.copy(f, instdir, TRUE) :\n",
      "  problem copying ./NAMESPACE to /home/russell/R/x86_64-pc-linux-gnu-library/3.4/JuliaCall/NAMESPACE: Permission denied\n",
      "Warning in file.copy(f, instdir, TRUE) :\n",
      "  problem copying ./LICENSE to /home/russell/R/x86_64-pc-linux-gnu-library/3.4/JuliaCall/LICENSE: Permission denied\n",
      "Warning in file.copy(f, instdir, TRUE) :\n",
      "  problem copying ./NEWS.md to /home/russell/R/x86_64-pc-linux-gnu-library/3.4/JuliaCall/NEWS.md: Permission denied\n",
      "Warning in file(file, if (append) \"a\" else \"w\") :\n",
      "  cannot open file '/home/russell/R/x86_64-pc-linux-gnu-library/3.4/JuliaCall/DESCRIPTION': Permission denied\n",
      "Error in file(file, if (append) \"a\" else \"w\") : \n",
      "  cannot open the connection\n",
      "ERROR: installing package DESCRIPTION failed for package ‘JuliaCall’\n",
      "* removing ‘/home/russell/R/x86_64-pc-linux-gnu-library/3.4/JuliaCall’\n",
      "┌ Warning: RCall.jl: Installing package into ‘/home/russell/R/x86_64-pc-linux-gnu-library/3.4’\n",
      "│ (as ‘lib’ is unspecified)\n",
      "│ trying URL 'http://cran.us.r-project.org/src/contrib/JuliaCall_0.16.6.tar.gz'\n",
      "│ Content type 'application/x-gzip' length 1380719 bytes (1.3 MB)\n",
      "│ ==================================================\n",
      "│ downloaded 1.3 MB\n",
      "│ \n",
      "│ Warning in install.packages(\"JuliaCall\", repos = \"http://cran.us.r-project.org\",  :\n",
      "│   installation of package ‘JuliaCall’ had non-zero exit status\n",
      "│ \n",
      "│ The downloaded source packages are in\n",
      "│ \t‘/tmp/RtmpRRnT5i/downloaded_packages’\n",
      "│ Julia version 1.1.0 at location /home/russell/packages/julias/julia-1.1.0/bin will be used.\n",
      "│ Loading setup script for JuliaCall...\n",
      "└ @ RCall /home/russell/.julia/packages/RCall/iojZI/src/io.jl:113\n",
      "┌ Warning: RCall.jl: Finish loading setup script for JuliaCall.\n",
      "└ @ RCall /home/russell/.julia/packages/RCall/iojZI/src/io.jl:113\n"
     ]
    },
    {
     "name": "stdout",
     "output_type": "stream",
     "text": [
      "number of workers is:  8 \n",
      "recover called non-interactively; frames dumped, use debugger() to view\n"
     ]
    },
    {
     "ename": "RCall.REvalError",
     "evalue": "REvalError: Error in apply(x, 2, function(y) y - mean(y)) : \n  dim(X) must have a positive length\nCalls: source ... withVisible -> eval -> eval -> center_apply -> apply",
     "output_type": "error",
     "traceback": [
      "REvalError: Error in apply(x, 2, function(y) y - mean(y)) : \n  dim(X) must have a positive length\nCalls: source ... withVisible -> eval -> eval -> center_apply -> apply",
      "",
      "Stacktrace:",
      " [1] #handle_eval_stderr#41(::Bool, ::Function) at /home/russell/.julia/packages/RCall/iojZI/src/io.jl:115",
      " [2] #handle_eval_stderr at ./none:0 [inlined]",
      " [3] reval_p(::Ptr{LangSxp}, ::Ptr{EnvSxp}) at /home/russell/.julia/packages/RCall/iojZI/src/eval.jl:99",
      " [4] reval_p(::Ptr{RCall.ExprSxp}, ::Ptr{EnvSxp}) at /home/russell/.julia/packages/RCall/iojZI/src/eval.jl:115",
      " [5] reval(::String, ::RObject{EnvSxp}) at /home/russell/.julia/packages/RCall/iojZI/src/eval.jl:132",
      " [6] top-level scope at /home/russell/.julia/packages/RCall/iojZI/src/macros.jl:71",
      " [7] top-level scope at In[3]:1"
     ]
    }
   ],
   "source": [
    "R\"source('rscripts/assignment34.r')\""
   ]
  },
  {
   "cell_type": "code",
   "execution_count": 4,
   "metadata": {},
   "outputs": [
    {
     "ename": "Pkg.Types.PkgError",
     "evalue": "https://github.com/JuliaPy/PyCall.jl is not a valid packagename",
     "output_type": "error",
     "traceback": [
      "https://github.com/JuliaPy/PyCall.jl is not a valid packagename",
      "",
      "Stacktrace:",
      " [1] pkgerror(::String) at /buildworker/worker/package_linux64/build/usr/share/julia/stdlib/v1.1/Pkg/src/Types.jl:120",
      " [2] check_package_name(::String) at /buildworker/worker/package_linux64/build/usr/share/julia/stdlib/v1.1/Pkg/src/API.jl:23",
      " [3] iterate at ./generator.jl:47 [inlined]",
      " [4] collect(::Base.Generator{Array{String,1},typeof(Pkg.API.check_package_name)}) at ./array.jl:606",
      " [5] #add_or_develop#13 at /buildworker/worker/package_linux64/build/usr/share/julia/stdlib/v1.1/Pkg/src/API.jl:29 [inlined]",
      " [6] #add_or_develop at ./none:0 [inlined]",
      " [7] #add_or_develop#12(::Base.Iterators.Pairs{Symbol,Symbol,Tuple{Symbol},NamedTuple{(:mode,),Tuple{Symbol}}}, ::Function, ::String) at /buildworker/worker/package_linux64/build/usr/share/julia/stdlib/v1.1/Pkg/src/API.jl:28",
      " [8] #add_or_develop at ./none:0 [inlined]",
      " [9] #add#20 at /buildworker/worker/package_linux64/build/usr/share/julia/stdlib/v1.1/Pkg/src/API.jl:59 [inlined]",
      " [10] add(::String) at /buildworker/worker/package_linux64/build/usr/share/julia/stdlib/v1.1/Pkg/src/API.jl:59",
      " [11] top-level scope at In[4]:1"
     ]
    }
   ],
   "source": [
    "Pkg.add(\"https://github.com/JuliaPy/PyCall.jl\")\n",
    "Pkg.checkout(\"PyCall\"); \n",
    "kg.build(\"PyCall\")\n",
    "ENV[\"PYTHON\"] = \"/usr/bin/python\"\n",
    "# ENV[\"PYTHON\"] = \"C:\\\\Python37-x64\\\\python.exe\" # example for Windows\n",
    "# ENV[\"PYTHON\"] = \"/usr/bin/python3.7\"           # example for *nix\n",
    "Pkg.build(\"PyCall\")\n"
   ]
  },
  {
   "cell_type": "code",
   "execution_count": null,
   "metadata": {},
   "outputs": [],
   "source": []
  }
 ],
 "metadata": {
  "kernelspec": {
   "display_name": "Julia 1.1.0",
   "language": "julia",
   "name": "julia-1.1"
  },
  "language_info": {
   "file_extension": ".jl",
   "mimetype": "application/julia",
   "name": "julia",
   "version": "1.1.0"
  }
 },
 "nbformat": 4,
 "nbformat_minor": 2
}
